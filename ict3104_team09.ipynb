{
 "cells": [
  {
   "attachments": {},
   "cell_type": "markdown",
   "id": "b7f05251",
   "metadata": {},
   "source": [
    "## Installation and Setup"
   ]
  },
  {
   "cell_type": "code",
   "execution_count": null,
   "id": "c598d6bf-5bf0-42c4-b926-4ca5f710f786",
   "metadata": {},
   "outputs": [],
   "source": [
    "# Create virtual environment\n",
    "\n",
    "# Windows\n",
    "!python -m venv ict3104_team09-venv\n",
    "\n",
    "# Mac\n",
    "# !python3 -m venv ict3104_team09-venv"
   ]
  },
  {
   "cell_type": "code",
   "execution_count": null,
   "id": "766c6c1e-8194-4b62-a02c-eff3066e7c8a",
   "metadata": {},
   "outputs": [],
   "source": [
    "# Activate virtual environment\n",
    "\n",
    "# Windows\n",
    "!ict3104_team09-venv\\Scripts\\Activate\n",
    "\n",
    "# Mac\n",
    "# !source ict3104_team09-venv/bin/activate"
   ]
  },
  {
   "cell_type": "code",
   "execution_count": null,
   "id": "3b9c29da",
   "metadata": {},
   "outputs": [],
   "source": [
    "# Install Kernel\n",
    "\n",
    "!pip install ipykernel\n",
    "!python -m ipykernel install --user --name=ict3104_team09-venv\n",
    "\n",
    "# Mac\n",
    "# !pip3 install ipykernel\n",
    "# !python3 -m ipykernel install --user --name=ict3104_team09-venv\n"
   ]
  },
  {
   "cell_type": "code",
   "execution_count": null,
   "id": "2df2a35e-801a-4e32-9f0f-8ad36f1a9d98",
   "metadata": {},
   "outputs": [],
   "source": [
    "# Clone the Project \n",
    "!git clone https://github.com/mayuelala/FollowYourPose.git"
   ]
  },
  {
   "cell_type": "code",
   "execution_count": null,
   "id": "abf594c0-76f8-4976-8533-a564d68f7a3a",
   "metadata": {},
   "outputs": [],
   "source": [
    "# Install dependencies in the virtual environment (WINDOWS ONLY)\n",
    "!pip install accelerate omegaconf einops av decord pandas opencv-python opencv-python-headless imageio\n",
    "\n",
    "!pip install  https://huggingface.co/r4ziel/xformers_pre_built/resolve/main/triton-2.0.0-cp310-cp310-win_amd64.whl\n",
    "\n",
    "!pip install diffusers==0.11.1 transformers==4.26.0 bitsandbytes==0.35.4 imageio-ffmpeg xformers\n",
    "\n",
    "!pip install torch==2.0.1+cu118 torchvision -f https://download.pytorch.org/whl/cu118/torch_stable.html\n",
    "\n",
    "!pip install ipywidgets\n",
    "\n",
    "!pip install -r requirements.txt"
   ]
  },
  {
   "cell_type": "code",
   "execution_count": 1,
   "id": "32321303",
   "metadata": {},
   "outputs": [
    {
     "name": "stdout",
     "output_type": "stream",
     "text": [
      "c:\\Users\\BK\\Desktop\\ICT3104\\Project\\ict3104-team09-2023\\FollowYourPose_V1\n"
     ]
    }
   ],
   "source": [
    "import os\n",
    "\n",
    "# Change directory to FollowYourPose\n",
    "os.chdir('./FollowYourPose_V1')\n",
    "\n",
    "# List Current Directory\n",
    "print(os.getcwd())"
   ]
  },
  {
   "cell_type": "code",
   "execution_count": 2,
   "id": "16b87e16",
   "metadata": {},
   "outputs": [
    {
     "name": "stdout",
     "output_type": "stream",
     "text": [
      "Updated git hooks.\n",
      "Git LFS initialized.\n"
     ]
    },
    {
     "name": "stderr",
     "output_type": "stream",
     "text": [
      "Cloning into 'FollowYourPose_v1'...\n",
      "Updating files:  15% (4/26)\n",
      "Updating files:  19% (5/26)\n",
      "Updating files:  23% (6/26)\n",
      "Updating files:  26% (7/26)\n",
      "Updating files:  30% (8/26)\n",
      "Updating files:  34% (9/26)\n",
      "Updating files:  38% (10/26)\n",
      "Updating files:  42% (11/26)\n",
      "Updating files:  46% (12/26)\n",
      "Updating files:  50% (13/26)\n",
      "Updating files:  53% (14/26)\n",
      "Updating files:  57% (15/26)\n",
      "Updating files:  61% (16/26)\n",
      "Updating files:  65% (17/26)\n",
      "Updating files:  69% (18/26)\n",
      "Updating files:  73% (19/26)\n",
      "Updating files:  76% (20/26)\n",
      "Updating files:  80% (21/26)\n",
      "Updating files:  84% (22/26)\n",
      "Updating files:  88% (23/26)\n",
      "Updating files:  92% (24/26)\n",
      "Updating files:  96% (25/26)\n",
      "Updating files: 100% (26/26)\n",
      "Updating files: 100% (26/26), done.\n",
      "Filtering content:  22% (2/9)\n",
      "Filtering content:  33% (3/9), 21.77 KiB | 0 bytes/s\n",
      "Filtering content:  33% (3/9), 295.17 MiB | 856.00 KiB/s\n",
      "Filtering content:  44% (4/9), 295.17 MiB | 856.00 KiB/s\n",
      "Filtering content:  44% (4/9), 614.37 MiB | 1.61 MiB/s  \n",
      "Filtering content:  55% (5/9), 614.37 MiB | 1.61 MiB/s\n",
      "Filtering content:  55% (5/9), 1.05 GiB | 2.07 MiB/s  \n",
      "Filtering content:  66% (6/9), 1.05 GiB | 2.07 MiB/s\n",
      "Filtering content:  66% (6/9), 1.70 GiB | 2.56 MiB/s\n",
      "Filtering content:  77% (7/9), 1.70 GiB | 2.56 MiB/s\n",
      "Filtering content:  77% (7/9), 2.83 GiB | 2.99 MiB/s\n",
      "Filtering content:  88% (8/9), 2.83 GiB | 2.99 MiB/s\n",
      "Filtering content:  88% (8/9), 6.03 GiB | 912.00 KiB/s\n",
      "Filtering content: 100% (9/9), 6.03 GiB | 912.00 KiB/s\n",
      "Filtering content: 100% (9/9), 9.75 GiB | 759.00 KiB/s\n",
      "Filtering content: 100% (9/9), 9.75 GiB | 4.12 MiB/s, done.\n"
     ]
    }
   ],
   "source": [
    "import shutil\n",
    "\n",
    "os.makedirs(\"checkpoints\", exist_ok=True)\n",
    "!git lfs install\n",
    "!git clone https://huggingface.co/YueMafighting/FollowYourPose_v1\n",
    "\n",
    "source_dir = 'FollowYourPose_v1'\n",
    "dest_dir = 'checkpoints'\n",
    "\n",
    "for filename in os.listdir(source_dir):\n",
    "    source_path = os.path.join(source_dir, filename)\n",
    "    dest_path = os.path.join(dest_dir, filename)\n",
    "    shutil.move(source_path, dest_path)\n",
    "\n",
    "os.rmdir(source_dir)"
   ]
  },
  {
   "attachments": {},
   "cell_type": "markdown",
   "id": "829aa3d5",
   "metadata": {},
   "source": [
    "## Data Exploration Section"
   ]
  },
  {
   "cell_type": "code",
   "execution_count": 13,
   "id": "3458814e",
   "metadata": {},
   "outputs": [
    {
     "data": {
      "application/vnd.jupyter.widget-view+json": {
       "model_id": "85c94f6736a64e53863495e8b15c7660",
       "version_major": 2,
       "version_minor": 0
      },
      "text/plain": [
       "VBox(children=(Dropdown(description='Select Video:', options=('Charades_01.mp4', 'Charades_02.mp4', 'Charades_…"
      ]
     },
     "metadata": {},
     "output_type": "display_data"
    }
   ],
   "source": [
    "import os\n",
    "import ipywidgets as widgets\n",
    "from IPython.display import display, HTML, clear_output, Video\n",
    "\n",
    "# Function to display the selected video\n",
    "def display_video(video_name):\n",
    "    clear_output(wait=True)  # Clear previous output, but retain the dropdown\n",
    "    video_path = os.path.join(folder_path, video_name)\n",
    "    # Use IPython's Video to display the video\n",
    "    display(Video(video_path, embed=True))\n",
    "\n",
    "# Path to the folder containing your videos\n",
    "folder_path = '../Data/CharadesVideos/' \n",
    "\n",
    "# List all video files in the folder\n",
    "video_files = [f for f in os.listdir(folder_path) if f.endswith(('.mp4', '.avi', '.mov', 'MOV'))]  # Add other video formats if needed\n",
    "\n",
    "# Create a dropdown widget for video selection\n",
    "dropdown = widgets.Dropdown(\n",
    "    options=video_files,\n",
    "    description='Select Video:',\n",
    "    disabled=False,\n",
    ")\n",
    "\n",
    "# Output area to display the video\n",
    "output_area = widgets.Output()\n",
    "\n",
    "# Display the dropdown and set up its event\n",
    "def on_dropdown_change(change):\n",
    "    if change['type'] == 'change' and change['name'] == 'value':\n",
    "        with output_area:\n",
    "            display_video(change['new'])\n",
    "\n",
    "dropdown.observe(on_dropdown_change)\n",
    "display(widgets.VBox([dropdown, output_area]))  # Display the dropdown and output area in a VBox\n"
   ]
  },
  {
   "attachments": {},
   "cell_type": "markdown",
   "id": "953290a2",
   "metadata": {},
   "source": [
    "## MM Pose Section"
   ]
  },
  {
   "cell_type": "code",
   "execution_count": null,
   "id": "6f0036ef",
   "metadata": {},
   "outputs": [],
   "source": [
    "# To convert the video to framees (Skeleton)"
   ]
  },
  {
   "attachments": {},
   "cell_type": "markdown",
   "id": "1b68e623",
   "metadata": {},
   "source": [
    "## Inference Section (Dont run yet if your com dont have a good GPU CFM CRASH)"
   ]
  },
  {
   "cell_type": "code",
   "execution_count": null,
   "id": "827108fa",
   "metadata": {},
   "outputs": [],
   "source": [
    "# Modify/Generate the config file\n",
    "\n",
    "# Choose input video (skeleton_path) \n",
    "\n",
    "# Command to run the program\n",
    "!python txt2video.py --config=\"configs/pose_sample.yaml\" --skeleton_path=\"./pose_example/vis_ikun_pose2.mov\"\n",
    "\n",
    "#Preview the generated output\n"
   ]
  },
  {
   "attachments": {},
   "cell_type": "markdown",
   "id": "1ae3c9f6",
   "metadata": {},
   "source": [
    "## Training Section"
   ]
  },
  {
   "cell_type": "code",
   "execution_count": null,
   "id": "09cce9bc",
   "metadata": {},
   "outputs": [],
   "source": [
    "import ipywidgets as widgets\n",
    "from IPython.display import display, clear_output\n",
    "\n",
    "# Function to handle file selection and display the file name\n",
    "def browse_folder(change):\n",
    "    if file_upload.value: # Check if a file has been selected\n",
    "        uploaded_file = file_upload.value[0]  # Get the selected file object\n",
    "        file_name_label.value = f\"Selected File: {uploaded_file['name']}\"\n",
    "    else:\n",
    "        file_name_label.value = \"No file selected. Please upload.\"\n",
    "\n",
    "# Function to clear the widget's state\n",
    "def clear_widget_state(b):\n",
    "    file_upload.value.clear()  # Clear the widget's value\n",
    "    file_name_label.value = \"\"\n",
    "\n",
    "# Create a FileUpload widget for selecting a file\n",
    "file_upload = widgets.FileUpload(\n",
    "    accept='',  # Accept any file type\n",
    "    multiple=False,  # Allow only a single file to be uploaded\n",
    ")\n",
    "\n",
    "file_name_label = widgets.Label(value=\"\")\n",
    "\n",
    "# Observe the 'value' attribute of the file_upload widget for changes\n",
    "file_upload.observe(browse_folder, names='value')\n",
    "\n",
    "# Create a confirmation button to process the uploaded file\n",
    "confirm_button = widgets.Button(description=\"Confirm Upload\")\n",
    "confirm_button.on_click(browse_folder)\n",
    "\n",
    "\n",
    "# Create a clear button to clear the widget's state\n",
    "clear_button = widgets.Button(description=\"Clear Widget State\")\n",
    "clear_button.on_click(clear_widget_state)\n",
    "\n",
    "# Display the widgets and clear button\n",
    "display(file_upload, confirm_button, clear_button, file_name_label)\n"
   ]
  },
  {
   "attachments": {},
   "cell_type": "markdown",
   "id": "257e507f",
   "metadata": {},
   "source": [
    "## Testing Section"
   ]
  },
  {
   "cell_type": "code",
   "execution_count": null,
   "id": "53e09ce1",
   "metadata": {},
   "outputs": [],
   "source": []
  },
  {
   "attachments": {},
   "cell_type": "markdown",
   "id": "324a25d8",
   "metadata": {},
   "source": [
    "## Results Section"
   ]
  },
  {
   "cell_type": "code",
   "execution_count": null,
   "id": "9bc34370",
   "metadata": {},
   "outputs": [],
   "source": []
  }
 ],
 "metadata": {
  "kernelspec": {
   "display_name": "Python 3 (ipykernel)",
   "language": "python",
   "name": "python3"
  },
  "language_info": {
   "codemirror_mode": {
    "name": "ipython",
    "version": 3
   },
   "file_extension": ".py",
   "mimetype": "text/x-python",
   "name": "python",
   "nbconvert_exporter": "python",
   "pygments_lexer": "ipython3",
   "version": "3.10.0"
  }
 },
 "nbformat": 4,
 "nbformat_minor": 5
}
