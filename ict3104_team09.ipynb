{
 "cells": [
  {
   "attachments": {},
   "cell_type": "markdown",
   "id": "b7f05251",
   "metadata": {},
   "source": [
    "## Installation and Setup"
   ]
  },
  {
   "cell_type": "code",
   "execution_count": null,
   "id": "c598d6bf-5bf0-42c4-b926-4ca5f710f786",
   "metadata": {},
   "outputs": [],
   "source": [
    "# Create virtual environment\n",
    "\n",
    "# Windows\n",
    "!python -m venv ict3104_team09-venv\n",
    "\n",
    "# Mac\n",
    "# !python3 -m venv ict3104_team09-venv"
   ]
  },
  {
   "cell_type": "code",
   "execution_count": null,
   "id": "766c6c1e-8194-4b62-a02c-eff3066e7c8a",
   "metadata": {},
   "outputs": [],
   "source": [
    "# Install ipykernel in the virtual environment (WINDOWS)\n",
    "!.\\ict3104_team09-venv\\Scripts\\python -m pip install ipykernel\n",
    "\n",
    "# Create a new kernel associated with your virtual environment (WINDOWS)\n",
    "!.\\ict3104_team09-venv\\Scripts\\python -m ipykernel install --user --name=ict3104_team09-venv\n",
    "\n",
    "# Install ipykernel in the virtual environment (MAC)\n",
    "# !./ict3104_team09-venv/bin/python3 -m pip install ipykernel\n",
    "\n",
    "# Create a new kernel associated with your virtual environment (MAC)\n",
    "# !./ict3104_team09-venv/bin/python3 -m ipykernel install --user --name=ict3104_team09-venv"
   ]
  },
  {
   "cell_type": "code",
   "execution_count": null,
   "id": "2df2a35e-801a-4e32-9f0f-8ad36f1a9d98",
   "metadata": {},
   "outputs": [],
   "source": [
    "# Clone the Project \n",
    "!git clone https://github.com/mayuelala/FollowYourPose.git"
   ]
  },
  {
   "cell_type": "code",
   "execution_count": null,
   "id": "abf594c0-76f8-4976-8533-a564d68f7a3a",
   "metadata": {},
   "outputs": [],
   "source": [
    "# Install dependencies in the virtual environment (WINDOWS ONLY)\n",
    "!.\\ict3104_team09-venv\\Scripts\\python -m pip install accelerate omegaconf einops av decord pandas opencv-python opencv-python-headless imageio\n",
    "\n",
    "!.\\ict3104_team09-venv\\Scripts\\python -m pip install  https://huggingface.co/r4ziel/xformers_pre_built/resolve/main/triton-2.0.0-cp310-cp310-win_amd64.whl\n",
    "\n",
    "!.\\ict3104_team09-venv\\Scripts\\python -m pip install diffusers==0.11.1 transformers==4.26.0 bitsandbytes==0.35.4 imageio-ffmpeg xformers\n",
    "\n",
    "!.\\ict3104_team09-venv\\Scripts\\python -m pip install torch==2.0.1+cu118 torchvision -f https://download.pytorch.org/whl/cu118/torch_stable.html\n",
    "\n",
    "!.\\ict3104_team09-venv\\Scripts\\python -m pip install ipywidgets\n",
    "\n",
    "!.\\ict3104_team09-venv\\Scripts\\python -m pip install -r requirements.txt"
   ]
  },
  {
   "cell_type": "code",
   "execution_count": null,
   "id": "32321303",
   "metadata": {},
   "outputs": [],
   "source": [
    "import os\n",
    "\n",
    "# Change directory to FollowYourPose\n",
    "os.chdir('./FollowYourPose')\n",
    "\n",
    "# List Current Directory\n",
    "print(os.getcwd())"
   ]
  },
  {
   "cell_type": "code",
   "execution_count": null,
   "id": "16b87e16",
   "metadata": {},
   "outputs": [],
   "source": [
    "import shutil\n",
    "\n",
    "os.makedirs(\"checkpoints\", exist_ok=True)\n",
    "!git lfs install\n",
    "!git clone https://huggingface.co/YueMafighting/FollowYourPose_v1\n",
    "\n",
    "source_dir = 'FollowYourPose_v1'\n",
    "dest_dir = 'checkpoints'\n",
    "\n",
    "for filename in os.listdir(source_dir):\n",
    "    source_path = os.path.join(source_dir, filename)\n",
    "    dest_path = os.path.join(dest_dir, filename)\n",
    "    shutil.move(source_path, dest_path)\n",
    "\n",
    "os.rmdir(source_dir)"
   ]
  },
  {
   "attachments": {},
   "cell_type": "markdown",
   "id": "829aa3d5",
   "metadata": {},
   "source": [
    "## Data Exploration Section"
   ]
  },
  {
   "cell_type": "code",
   "execution_count": null,
   "id": "3458814e",
   "metadata": {},
   "outputs": [],
   "source": [
    "import os\n",
    "import ipywidgets as widgets\n",
    "from IPython.display import display, clear_output\n",
    "import subprocess\n",
    "\n",
    "# Function to play the selected video\n",
    "def play_video(video_name):\n",
    "    video_path = os.path.join(folder_path, video_name)\n",
    "    # Open the video using the default video player\n",
    "    subprocess.Popen(f'start {video_path}', shell=True)\n",
    "\n",
    "# Path to the folder containing your videos\n",
    "folder_path = './pose_example/' \n",
    "\n",
    "# List all video files in the folder\n",
    "video_files = [f for f in os.listdir(folder_path) if f.endswith(('.mp4', '.avi', '.mov','MOV'))]  # Add other video formats if needed\n",
    "\n",
    "# Create a dropdown widget for video selection\n",
    "dropdown = widgets.Dropdown(\n",
    "    options=video_files,\n",
    "    description='Select Video:',\n",
    "    disabled=False,\n",
    ")\n",
    "\n",
    "# Display the dropdown and set up its event\n",
    "def on_dropdown_change(change):\n",
    "    if change['type'] == 'change' and change['name'] == 'value':\n",
    "        play_video(change['new'])\n",
    "\n",
    "dropdown.observe(on_dropdown_change)\n",
    "display(dropdown)\n"
   ]
  },
  {
   "attachments": {},
   "cell_type": "markdown",
   "id": "953290a2",
   "metadata": {},
   "source": [
    "## MM Pose Section"
   ]
  },
  {
   "cell_type": "code",
   "execution_count": null,
   "id": "6f0036ef",
   "metadata": {},
   "outputs": [],
   "source": [
    "# To convert the video to framees (Skeleton)"
   ]
  },
  {
   "attachments": {},
   "cell_type": "markdown",
   "id": "1b68e623",
   "metadata": {},
   "source": [
    "## Inference Section (Dont run yet if your com dont have a good GPU CFM CRASH)"
   ]
  },
  {
   "cell_type": "code",
   "execution_count": null,
   "id": "827108fa",
   "metadata": {},
   "outputs": [],
   "source": [
    "# Modify/Generate the config file\n",
    "\n",
    "# Choose input video (skeleton_path) \n",
    "\n",
    "# Command to run the program\n",
    "!python txt2video.py --config=\"configs/pose_sample.yaml\" --skeleton_path=\"./pose_example/vis_ikun_pose2.mov\"\n",
    "\n",
    "#Preview the generated output\n"
   ]
  },
  {
   "attachments": {},
   "cell_type": "markdown",
   "id": "1ae3c9f6",
   "metadata": {},
   "source": [
    "## Training Section"
   ]
  },
  {
   "cell_type": "code",
   "execution_count": null,
   "id": "09cce9bc",
   "metadata": {},
   "outputs": [],
   "source": []
  },
  {
   "attachments": {},
   "cell_type": "markdown",
   "id": "257e507f",
   "metadata": {},
   "source": [
    "## Testing Section"
   ]
  },
  {
   "cell_type": "code",
   "execution_count": null,
   "id": "53e09ce1",
   "metadata": {},
   "outputs": [],
   "source": []
  },
  {
   "attachments": {},
   "cell_type": "markdown",
   "id": "324a25d8",
   "metadata": {},
   "source": [
    "## Results Section"
   ]
  },
  {
   "cell_type": "code",
   "execution_count": null,
   "id": "9bc34370",
   "metadata": {},
   "outputs": [],
   "source": []
  }
 ],
 "metadata": {
  "kernelspec": {
   "display_name": "Python 3 (ipykernel)",
   "language": "python",
   "name": "python3"
  },
  "language_info": {
   "codemirror_mode": {
    "name": "ipython",
    "version": 3
   },
   "file_extension": ".py",
   "mimetype": "text/x-python",
   "name": "python",
   "nbconvert_exporter": "python",
   "pygments_lexer": "ipython3",
   "version": "3.10.0"
  }
 },
 "nbformat": 4,
 "nbformat_minor": 5
}
