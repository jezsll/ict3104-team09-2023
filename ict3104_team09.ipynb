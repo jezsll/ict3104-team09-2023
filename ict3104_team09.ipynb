{
 "cells": [
  {
<<<<<<< HEAD
=======
   "attachments": {},
   "cell_type": "markdown",
   "id": "b7f05251",
   "metadata": {},
   "source": [
    "## Installation and Setup"
   ]
  },
  {
>>>>>>> parent of fee1c99 (Revert "T09-4, T09-5, T09-6 implemented")
   "cell_type": "code",
   "execution_count": null,
   "id": "c598d6bf-5bf0-42c4-b926-4ca5f710f786",
   "metadata": {},
   "outputs": [],
   "source": [
    "# create virtual environment\n",
    "!python3 -m venv ict3104_team09-venv"
   ]
  },
  {
   "cell_type": "code",
   "execution_count": null,
   "id": "766c6c1e-8194-4b62-a02c-eff3066e7c8a",
   "metadata": {},
   "outputs": [],
<<<<<<< HEAD
   "source": [
    "# activate virtual environment\n",
    "# for mac\n",
    "!source ict3104_team09-venv/bin/activate\n",
    "\n",
    "# for windows\n",
    "#! .\\venv\\Scripts\\activate"
   ]
  },
  {
   "cell_type": "code",
   "execution_count": 3,
   "id": "3df1fac9-ef9f-4131-bfc5-2ef9856c3d6a",
   "metadata": {},
   "outputs": [
    {
     "name": "stdout",
     "output_type": "stream",
     "text": [
      "Requirement already satisfied: ipykernel in /Library/Frameworks/Python.framework/Versions/3.11/lib/python3.11/site-packages (6.25.2)\n",
      "Requirement already satisfied: appnope in /Library/Frameworks/Python.framework/Versions/3.11/lib/python3.11/site-packages (from ipykernel) (0.1.3)\n",
      "Requirement already satisfied: comm>=0.1.1 in /Library/Frameworks/Python.framework/Versions/3.11/lib/python3.11/site-packages (from ipykernel) (0.1.4)\n",
      "Requirement already satisfied: debugpy>=1.6.5 in /Library/Frameworks/Python.framework/Versions/3.11/lib/python3.11/site-packages (from ipykernel) (1.8.0)\n",
      "Requirement already satisfied: ipython>=7.23.1 in /Library/Frameworks/Python.framework/Versions/3.11/lib/python3.11/site-packages (from ipykernel) (8.15.0)\n",
      "Requirement already satisfied: jupyter-client>=6.1.12 in /Library/Frameworks/Python.framework/Versions/3.11/lib/python3.11/site-packages (from ipykernel) (8.3.1)\n",
      "Requirement already satisfied: jupyter-core!=5.0.*,>=4.12 in /Library/Frameworks/Python.framework/Versions/3.11/lib/python3.11/site-packages (from ipykernel) (5.3.1)\n",
      "Requirement already satisfied: matplotlib-inline>=0.1 in /Library/Frameworks/Python.framework/Versions/3.11/lib/python3.11/site-packages (from ipykernel) (0.1.6)\n",
      "Requirement already satisfied: nest-asyncio in /Library/Frameworks/Python.framework/Versions/3.11/lib/python3.11/site-packages (from ipykernel) (1.5.8)\n",
      "Requirement already satisfied: packaging in /Library/Frameworks/Python.framework/Versions/3.11/lib/python3.11/site-packages (from ipykernel) (23.1)\n",
      "Requirement already satisfied: psutil in /Library/Frameworks/Python.framework/Versions/3.11/lib/python3.11/site-packages (from ipykernel) (5.9.5)\n",
      "Requirement already satisfied: pyzmq>=20 in /Library/Frameworks/Python.framework/Versions/3.11/lib/python3.11/site-packages (from ipykernel) (25.1.1)\n",
      "Requirement already satisfied: tornado>=6.1 in /Library/Frameworks/Python.framework/Versions/3.11/lib/python3.11/site-packages (from ipykernel) (6.3.3)\n",
      "Requirement already satisfied: traitlets>=5.4.0 in /Library/Frameworks/Python.framework/Versions/3.11/lib/python3.11/site-packages (from ipykernel) (5.10.0)\n",
      "Requirement already satisfied: backcall in /Library/Frameworks/Python.framework/Versions/3.11/lib/python3.11/site-packages (from ipython>=7.23.1->ipykernel) (0.2.0)\n",
      "Requirement already satisfied: decorator in /Library/Frameworks/Python.framework/Versions/3.11/lib/python3.11/site-packages (from ipython>=7.23.1->ipykernel) (5.1.1)\n",
      "Requirement already satisfied: jedi>=0.16 in /Library/Frameworks/Python.framework/Versions/3.11/lib/python3.11/site-packages (from ipython>=7.23.1->ipykernel) (0.19.0)\n",
      "Requirement already satisfied: pickleshare in /Library/Frameworks/Python.framework/Versions/3.11/lib/python3.11/site-packages (from ipython>=7.23.1->ipykernel) (0.7.5)\n",
      "Requirement already satisfied: prompt-toolkit!=3.0.37,<3.1.0,>=3.0.30 in /Library/Frameworks/Python.framework/Versions/3.11/lib/python3.11/site-packages (from ipython>=7.23.1->ipykernel) (3.0.39)\n",
      "Requirement already satisfied: pygments>=2.4.0 in /Library/Frameworks/Python.framework/Versions/3.11/lib/python3.11/site-packages (from ipython>=7.23.1->ipykernel) (2.16.1)\n",
      "Requirement already satisfied: stack-data in /Library/Frameworks/Python.framework/Versions/3.11/lib/python3.11/site-packages (from ipython>=7.23.1->ipykernel) (0.6.2)\n",
      "Requirement already satisfied: pexpect>4.3 in /Library/Frameworks/Python.framework/Versions/3.11/lib/python3.11/site-packages (from ipython>=7.23.1->ipykernel) (4.8.0)\n",
      "Requirement already satisfied: python-dateutil>=2.8.2 in /Library/Frameworks/Python.framework/Versions/3.11/lib/python3.11/site-packages (from jupyter-client>=6.1.12->ipykernel) (2.8.2)\n",
      "Requirement already satisfied: platformdirs>=2.5 in /Library/Frameworks/Python.framework/Versions/3.11/lib/python3.11/site-packages (from jupyter-core!=5.0.*,>=4.12->ipykernel) (3.10.0)\n",
      "Requirement already satisfied: parso<0.9.0,>=0.8.3 in /Library/Frameworks/Python.framework/Versions/3.11/lib/python3.11/site-packages (from jedi>=0.16->ipython>=7.23.1->ipykernel) (0.8.3)\n",
      "Requirement already satisfied: ptyprocess>=0.5 in /Library/Frameworks/Python.framework/Versions/3.11/lib/python3.11/site-packages (from pexpect>4.3->ipython>=7.23.1->ipykernel) (0.7.0)\n",
      "Requirement already satisfied: wcwidth in /Library/Frameworks/Python.framework/Versions/3.11/lib/python3.11/site-packages (from prompt-toolkit!=3.0.37,<3.1.0,>=3.0.30->ipython>=7.23.1->ipykernel) (0.2.6)\n",
      "Requirement already satisfied: six>=1.5 in /Library/Frameworks/Python.framework/Versions/3.11/lib/python3.11/site-packages (from python-dateutil>=2.8.2->jupyter-client>=6.1.12->ipykernel) (1.16.0)\n",
      "Requirement already satisfied: executing>=1.2.0 in /Library/Frameworks/Python.framework/Versions/3.11/lib/python3.11/site-packages (from stack-data->ipython>=7.23.1->ipykernel) (1.2.0)\n",
      "Requirement already satisfied: asttokens>=2.1.0 in /Library/Frameworks/Python.framework/Versions/3.11/lib/python3.11/site-packages (from stack-data->ipython>=7.23.1->ipykernel) (2.4.0)\n",
      "Requirement already satisfied: pure-eval in /Library/Frameworks/Python.framework/Versions/3.11/lib/python3.11/site-packages (from stack-data->ipython>=7.23.1->ipykernel) (0.2.2)\n",
      "0.00s - Debugger warning: It seems that frozen modules are being used, which may\n",
      "0.00s - make the debugger miss breakpoints. Please pass -Xfrozen_modules=off\n",
      "0.00s - to python to disable frozen modules.\n",
      "0.00s - Note: Debugging will proceed. Set PYDEVD_DISABLE_FILE_VALIDATION=1 to disable this validation.\n",
      "Installed kernelspec ict3104_team09-venv in /Users/ip/Library/Jupyter/kernels/ict3104_team09-venv\n"
     ]
    }
   ],
=======
>>>>>>> parent of fee1c99 (Revert "T09-4, T09-5, T09-6 implemented")
   "source": [
    "# add venv to jupyter\n",
    "!pip3 install --user ipykernel\n",
    "!python3 -m ipykernel install --user --name=ict3104_team09-venv"
   ]
  },
  {
   "cell_type": "code",
   "execution_count": 4,
   "id": "2df2a35e-801a-4e32-9f0f-8ad36f1a9d98",
   "metadata": {},
<<<<<<< HEAD
   "outputs": [
    {
     "name": "stdout",
     "output_type": "stream",
     "text": [
      "Collecting absl-py==1.4.0 (from -r requirements.txt (line 1))\n",
      "  Using cached absl_py-1.4.0-py3-none-any.whl (126 kB)\n",
      "Collecting accelerate==0.16.0 (from -r requirements.txt (line 2))\n",
      "  Using cached accelerate-0.16.0-py3-none-any.whl (199 kB)\n",
      "Collecting aiofiles==23.1.0 (from -r requirements.txt (line 3))\n",
      "  Using cached aiofiles-23.1.0-py3-none-any.whl (14 kB)\n",
      "Collecting aiohttp==3.8.4 (from -r requirements.txt (line 4))\n",
      "  Using cached aiohttp-3.8.4-cp311-cp311-macosx_10_9_x86_64.whl (355 kB)\n",
      "Collecting aiosignal==1.3.1 (from -r requirements.txt (line 5))\n",
      "  Using cached aiosignal-1.3.1-py3-none-any.whl (7.6 kB)\n",
      "Collecting altair==4.2.2 (from -r requirements.txt (line 6))\n",
      "  Using cached altair-4.2.2-py3-none-any.whl (813 kB)\n",
      "Collecting antlr4-python3-runtime==4.9.3 (from -r requirements.txt (line 7))\n",
      "  Using cached antlr4-python3-runtime-4.9.3.tar.gz (117 kB)\n",
      "  Installing build dependencies ... \u001b[?25ldone\n",
      "\u001b[?25h  Getting requirements to build wheel ... \u001b[?25ldone\n",
      "\u001b[?25h  Preparing metadata (pyproject.toml) ... \u001b[?25ldone\n",
      "\u001b[?25hCollecting anyio==3.6.2 (from -r requirements.txt (line 8))\n",
      "  Using cached anyio-3.6.2-py3-none-any.whl (80 kB)\n",
      "Collecting async-timeout==4.0.2 (from -r requirements.txt (line 9))\n",
      "  Using cached async_timeout-4.0.2-py3-none-any.whl (5.8 kB)\n",
      "Collecting attrs==22.2.0 (from -r requirements.txt (line 10))\n",
      "  Using cached attrs-22.2.0-py3-none-any.whl (60 kB)\n",
      "Collecting av==10.0.0 (from -r requirements.txt (line 11))\n",
      "  Using cached av-10.0.0-cp311-cp311-macosx_10_9_x86_64.whl (26.0 MB)\n",
      "Collecting bitsandbytes==0.35.4 (from -r requirements.txt (line 12))\n",
      "  Using cached bitsandbytes-0.35.4-py3-none-any.whl (62.5 MB)\n",
      "Collecting cachetools==5.3.0 (from -r requirements.txt (line 13))\n",
      "  Using cached cachetools-5.3.0-py3-none-any.whl (9.3 kB)\n",
      "Collecting charset-normalizer==3.0.1 (from -r requirements.txt (line 14))\n",
      "  Using cached charset_normalizer-3.0.1-cp311-cp311-macosx_10_9_x86_64.whl (122 kB)\n",
      "Collecting click==8.1.3 (from -r requirements.txt (line 15))\n",
      "  Using cached click-8.1.3-py3-none-any.whl (96 kB)\n",
      "Collecting contourpy==1.0.7 (from -r requirements.txt (line 16))\n",
      "  Using cached contourpy-1.0.7-cp311-cp311-macosx_10_9_x86_64.whl (244 kB)\n",
      "Collecting cycler==0.11.0 (from -r requirements.txt (line 17))\n",
      "  Using cached cycler-0.11.0-py3-none-any.whl (6.4 kB)\n",
      "\u001b[31mERROR: Could not find a version that satisfies the requirement decord==0.6.0 (from versions: none)\u001b[0m\u001b[31m\n",
      "\u001b[0m\u001b[31mERROR: No matching distribution found for decord==0.6.0\u001b[0m\u001b[31m\n",
      "\u001b[0m"
     ]
    }
   ],
=======
   "outputs": [],
   "source": [
    "# Clone the Project \n",
    "!git clone https://github.com/mayuelala/FollowYourPose.git"
   ]
  },
  {
   "cell_type": "code",
   "execution_count": null,
   "id": "abf594c0-76f8-4976-8533-a564d68f7a3a",
   "metadata": {},
   "outputs": [],
>>>>>>> parent of fee1c99 (Revert "T09-4, T09-5, T09-6 implemented")
   "source": [
    "# install requirements\n",
    "!pip3 install -r requirements.txt"
   ]
  },
  {
   "cell_type": "code",
<<<<<<< HEAD
   "execution_count": 5,
   "id": "69722ae4-914b-4bfb-a568-e74f2ddfa8cb",
   "metadata": {},
   "outputs": [],
   "source": [
    "# freeze venv and update requirements\n",
    "!pip3 freeze > requirements.txt"
=======
   "execution_count": null,
   "id": "32321303",
   "metadata": {},
   "outputs": [],
   "source": [
    "import os\n",
    "\n",
    "# Change directory to FollowYourPose\n",
    "os.chdir('./FollowYourPose')\n",
    "\n",
    "# List Current Directory\n",
    "print(os.getcwd())"
   ]
  },
  {
   "cell_type": "code",
   "execution_count": null,
   "id": "16b87e16",
   "metadata": {},
   "outputs": [],
   "source": [
    "import shutil\n",
    "\n",
    "os.makedirs(\"checkpoints\", exist_ok=True)\n",
    "!git lfs install\n",
    "!git clone https://huggingface.co/YueMafighting/FollowYourPose_v1\n",
    "\n",
    "source_dir = 'FollowYourPose_v1'\n",
    "dest_dir = 'checkpoints'\n",
    "\n",
    "for filename in os.listdir(source_dir):\n",
    "    source_path = os.path.join(source_dir, filename)\n",
    "    dest_path = os.path.join(dest_dir, filename)\n",
    "    shutil.move(source_path, dest_path)\n",
    "\n",
    "os.rmdir(source_dir)"
   ]
  },
  {
   "attachments": {},
   "cell_type": "markdown",
   "id": "829aa3d5",
   "metadata": {},
   "source": [
    "## Data Exploration Section"
   ]
  },
  {
   "cell_type": "code",
   "execution_count": null,
   "id": "3458814e",
   "metadata": {},
   "outputs": [],
   "source": [
    "import os\n",
    "import ipywidgets as widgets\n",
    "from IPython.display import display, clear_output\n",
    "import subprocess\n",
    "\n",
    "# Function to play the selected video\n",
    "def play_video(video_name):\n",
    "    video_path = os.path.join(folder_path, video_name)\n",
    "    # Open the video using the default video player\n",
    "    subprocess.Popen(f'start {video_path}', shell=True)\n",
    "\n",
    "# Path to the folder containing your videos\n",
    "folder_path = './pose_example/' \n",
    "\n",
    "# List all video files in the folder\n",
    "video_files = [f for f in os.listdir(folder_path) if f.endswith(('.mp4', '.avi', '.mov','MOV'))]  # Add other video formats if needed\n",
    "\n",
    "# Create a dropdown widget for video selection\n",
    "dropdown = widgets.Dropdown(\n",
    "    options=video_files,\n",
    "    description='Select Video:',\n",
    "    disabled=False,\n",
    ")\n",
    "\n",
    "# Display the dropdown and set up its event\n",
    "def on_dropdown_change(change):\n",
    "    if change['type'] == 'change' and change['name'] == 'value':\n",
    "        play_video(change['new'])\n",
    "\n",
    "dropdown.observe(on_dropdown_change)\n",
    "display(dropdown)\n"
   ]
  },
  {
   "attachments": {},
   "cell_type": "markdown",
   "id": "953290a2",
   "metadata": {},
   "source": [
    "## MM Pose Section"
>>>>>>> parent of fee1c99 (Revert "T09-4, T09-5, T09-6 implemented")
   ]
  },
  {
   "cell_type": "code",
   "execution_count": null,
<<<<<<< HEAD
   "id": "abf594c0-76f8-4976-8533-a564d68f7a3a",
=======
   "id": "6f0036ef",
   "metadata": {},
   "outputs": [],
   "source": [
    "# To convert the video to framees (Skeleton)"
   ]
  },
  {
   "attachments": {},
   "cell_type": "markdown",
   "id": "1b68e623",
   "metadata": {},
   "source": [
    "## Inference Section (Dont run yet if your com dont have a good GPU CFM CRASH)"
   ]
  },
  {
   "cell_type": "code",
   "execution_count": null,
   "id": "827108fa",
   "metadata": {},
   "outputs": [],
   "source": [
    "# Modify/Generate the config file\n",
    "\n",
    "# Choose input video (skeleton_path) \n",
    "\n",
    "# Command to run the program\n",
    "!python txt2video.py --config=\"configs/pose_sample.yaml\" --skeleton_path=\"./pose_example/vis_ikun_pose2.mov\"\n",
    "\n",
    "#Preview the generated output\n"
   ]
  },
  {
   "attachments": {},
   "cell_type": "markdown",
   "id": "1ae3c9f6",
   "metadata": {},
   "source": [
    "## Training Section"
   ]
  },
  {
   "cell_type": "code",
   "execution_count": null,
   "id": "09cce9bc",
   "metadata": {},
   "outputs": [],
   "source": []
  },
  {
   "attachments": {},
   "cell_type": "markdown",
   "id": "257e507f",
   "metadata": {},
   "source": [
    "## Testing Section"
   ]
  },
  {
   "cell_type": "code",
   "execution_count": null,
   "id": "53e09ce1",
   "metadata": {},
   "outputs": [],
   "source": []
  },
  {
   "attachments": {},
   "cell_type": "markdown",
   "id": "324a25d8",
   "metadata": {},
   "source": [
    "## Results Section"
   ]
  },
  {
   "cell_type": "code",
   "execution_count": null,
   "id": "9bc34370",
>>>>>>> parent of fee1c99 (Revert "T09-4, T09-5, T09-6 implemented")
   "metadata": {},
   "outputs": [],
   "source": []
  }
 ],
 "metadata": {
  "kernelspec": {
   "display_name": "Python 3 (ipykernel)",
   "language": "python",
   "name": "python3"
  },
  "language_info": {
   "codemirror_mode": {
    "name": "ipython",
    "version": 3
   },
   "file_extension": ".py",
   "mimetype": "text/x-python",
   "name": "python",
   "nbconvert_exporter": "python",
   "pygments_lexer": "ipython3",
   "version": "3.11.3"
  }
 },
 "nbformat": 4,
 "nbformat_minor": 5
}
