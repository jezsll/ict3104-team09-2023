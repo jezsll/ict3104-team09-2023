{
 "cells": [
  {
   "cell_type": "markdown",
   "id": "b7f05251",
   "metadata": {},
   "source": [
    "## Installation and Setup"
   ]
  },
  {
   "cell_type": "code",
   "execution_count": 1,
   "id": "c598d6bf-5bf0-42c4-b926-4ca5f710f786",
   "metadata": {},
   "outputs": [],
   "source": [
    "# Create virtual environment\n",
    "\n",
    "# Windows\n",
    "!python -m venv ict3104_team09-venv\n",
    "\n",
    "# Mac\n",
    "# !python3 -m venv ict3104_team09-venv"
   ]
  },
  {
   "cell_type": "code",
   "execution_count": 2,
   "id": "766c6c1e-8194-4b62-a02c-eff3066e7c8a",
   "metadata": {},
   "outputs": [
    {
     "name": "stdout",
     "output_type": "stream",
     "text": [
      "Collecting ipykernel\n",
      "  Using cached ipykernel-6.25.2-py3-none-any.whl (154 kB)\n",
      "Collecting comm>=0.1.1\n",
      "  Using cached comm-0.1.4-py3-none-any.whl (6.6 kB)\n",
      "Collecting nest-asyncio\n",
      "  Using cached nest_asyncio-1.5.8-py3-none-any.whl (5.3 kB)\n",
      "Collecting ipython>=7.23.1\n",
      "  Using cached ipython-8.15.0-py3-none-any.whl (806 kB)\n",
      "Collecting jupyter-client>=6.1.12\n",
      "  Using cached jupyter_client-8.3.1-py3-none-any.whl (104 kB)\n",
      "Collecting psutil\n",
      "  Using cached psutil-5.9.5-cp36-abi3-win_amd64.whl (255 kB)\n",
      "Collecting traitlets>=5.4.0\n",
      "  Using cached traitlets-5.10.0-py3-none-any.whl (120 kB)\n",
      "Collecting jupyter-core!=5.0.*,>=4.12\n",
      "  Using cached jupyter_core-5.3.1-py3-none-any.whl (93 kB)\n",
      "Collecting pyzmq>=20\n",
      "  Using cached pyzmq-25.1.1-cp310-cp310-win_amd64.whl (1.2 MB)\n",
      "Collecting matplotlib-inline>=0.1\n",
      "  Using cached matplotlib_inline-0.1.6-py3-none-any.whl (9.4 kB)\n",
      "Collecting packaging\n",
      "  Using cached packaging-23.1-py3-none-any.whl (48 kB)\n",
      "Collecting tornado>=6.1\n",
      "  Using cached tornado-6.3.3-cp38-abi3-win_amd64.whl (429 kB)\n",
      "Collecting debugpy>=1.6.5\n",
      "  Using cached debugpy-1.8.0-cp310-cp310-win_amd64.whl (5.0 MB)\n",
      "Collecting stack-data\n",
      "  Using cached stack_data-0.6.2-py3-none-any.whl (24 kB)\n",
      "Collecting pickleshare\n",
      "  Using cached pickleshare-0.7.5-py2.py3-none-any.whl (6.9 kB)\n",
      "Collecting backcall\n",
      "  Using cached backcall-0.2.0-py2.py3-none-any.whl (11 kB)\n",
      "Collecting jedi>=0.16\n",
      "  Using cached jedi-0.19.0-py2.py3-none-any.whl (1.6 MB)\n",
      "Collecting pygments>=2.4.0\n",
      "  Using cached Pygments-2.16.1-py3-none-any.whl (1.2 MB)\n",
      "Collecting colorama\n",
      "  Using cached colorama-0.4.6-py2.py3-none-any.whl (25 kB)\n",
      "Collecting prompt-toolkit!=3.0.37,<3.1.0,>=3.0.30\n",
      "  Using cached prompt_toolkit-3.0.39-py3-none-any.whl (385 kB)\n",
      "Collecting decorator\n",
      "  Using cached decorator-5.1.1-py3-none-any.whl (9.1 kB)\n",
      "Collecting exceptiongroup\n",
      "  Using cached exceptiongroup-1.1.3-py3-none-any.whl (14 kB)\n",
      "Collecting parso<0.9.0,>=0.8.3\n",
      "  Using cached parso-0.8.3-py2.py3-none-any.whl (100 kB)\n",
      "Collecting python-dateutil>=2.8.2\n",
      "  Using cached python_dateutil-2.8.2-py2.py3-none-any.whl (247 kB)\n",
      "Collecting pywin32>=300\n",
      "  Using cached pywin32-306-cp310-cp310-win_amd64.whl (9.2 MB)\n",
      "Collecting platformdirs>=2.5\n",
      "  Using cached platformdirs-3.10.0-py3-none-any.whl (17 kB)\n",
      "Collecting wcwidth\n",
      "  Using cached wcwidth-0.2.6-py2.py3-none-any.whl (29 kB)\n",
      "Collecting six>=1.5\n",
      "  Using cached six-1.16.0-py2.py3-none-any.whl (11 kB)\n",
      "Collecting asttokens>=2.1.0\n",
      "  Using cached asttokens-2.4.0-py2.py3-none-any.whl (27 kB)\n",
      "Collecting pure-eval\n",
      "  Using cached pure_eval-0.2.2-py3-none-any.whl (11 kB)\n",
      "Collecting executing>=1.2.0\n",
      "  Using cached executing-1.2.0-py2.py3-none-any.whl (24 kB)\n",
      "Installing collected packages: six, wcwidth, traitlets, pywin32, pure-eval, platformdirs, parso, executing, asttokens, tornado, stack-data, pyzmq, python-dateutil, pygments, prompt-toolkit, pickleshare, matplotlib-inline, jupyter-core, jedi, exceptiongroup, decorator, colorama, backcall, psutil, packaging, nest-asyncio, jupyter-client, ipython, debugpy, comm, ipykernel\n",
      "Successfully installed asttokens-2.4.0 backcall-0.2.0 colorama-0.4.6 comm-0.1.4 debugpy-1.8.0 decorator-5.1.1 exceptiongroup-1.1.3 executing-1.2.0 ipykernel-6.25.2 ipython-8.15.0 jedi-0.19.0 jupyter-client-8.3.1 jupyter-core-5.3.1 matplotlib-inline-0.1.6 nest-asyncio-1.5.8 packaging-23.1 parso-0.8.3 pickleshare-0.7.5 platformdirs-3.10.0 prompt-toolkit-3.0.39 psutil-5.9.5 pure-eval-0.2.2 pygments-2.16.1 python-dateutil-2.8.2 pywin32-306 pyzmq-25.1.1 six-1.16.0 stack-data-0.6.2 tornado-6.3.3 traitlets-5.10.0 wcwidth-0.2.6\n"
     ]
    },
    {
     "name": "stderr",
     "output_type": "stream",
     "text": [
      "WARNING: You are using pip version 21.2.3; however, version 23.2.1 is available.\n",
      "You should consider upgrading via the 'c:\\Users\\Admin\\Desktop\\ict3104-team09-2023\\ict3104_team09-venv\\Scripts\\python.exe -m pip install --upgrade pip' command.\n"
     ]
    },
    {
     "name": "stdout",
     "output_type": "stream",
     "text": [
      "Installed kernelspec ict3104_team09-venv in C:\\Users\\Admin\\AppData\\Roaming\\jupyter\\kernels\\ict3104_team09-venv\n"
     ]
    }
   ],
   "source": [
    "# Install ipykernel in the virtual environment (WINDOWS)\n",
    "!.\\ict3104_team09-venv\\Scripts\\python -m pip install ipykernel\n",
    "\n",
    "# Create a new kernel associated with your virtual environment (WINDOWS)\n",
    "!.\\ict3104_team09-venv\\Scripts\\python -m ipykernel install --user --name=ict3104_team09-venv\n",
    "\n",
    "# Install ipykernel in the virtual environment (MAC)\n",
    "# !./ict3104_team09-venv/bin/python3 -m pip install ipykernel\n",
    "\n",
    "# Create a new kernel associated with your virtual environment (MAC)\n",
    "# !./ict3104_team09-venv/bin/python3 -m ipykernel install --user --name=ict3104_team09-venv"
   ]
  },
  {
   "cell_type": "code",
   "execution_count": null,
   "id": "2df2a35e-801a-4e32-9f0f-8ad36f1a9d98",
   "metadata": {},
   "outputs": [],
   "source": [
    "# Clone the Project \n",
    "!git clone https://github.com/mayuelala/FollowYourPose.git"
   ]
  },
  {
   "cell_type": "code",
   "execution_count": 1,
   "id": "abf594c0-76f8-4976-8533-a564d68f7a3a",
   "metadata": {},
   "outputs": [
    {
     "name": "stdout",
     "output_type": "stream",
     "text": [
      "Collecting accelerate\n",
      "  Using cached accelerate-0.23.0-py3-none-any.whl (258 kB)\n",
      "Collecting omegaconf\n",
      "  Using cached omegaconf-2.3.0-py3-none-any.whl (79 kB)\n",
      "Collecting einops\n",
      "  Using cached einops-0.6.1-py3-none-any.whl (42 kB)\n",
      "Collecting av\n",
      "  Using cached av-10.0.0-cp310-cp310-win_amd64.whl (25.3 MB)\n",
      "Collecting decord\n",
      "  Using cached decord-0.6.0-py3-none-win_amd64.whl (24.7 MB)\n",
      "Collecting pandas\n",
      "  Using cached pandas-2.1.1-cp310-cp310-win_amd64.whl (10.7 MB)\n",
      "Collecting opencv-python\n",
      "  Using cached opencv_python-4.8.0.76-cp37-abi3-win_amd64.whl (38.1 MB)\n",
      "Collecting opencv-python-headless\n",
      "  Using cached opencv_python_headless-4.8.0.76-cp37-abi3-win_amd64.whl (38.0 MB)\n",
      "Collecting imageio\n",
      "  Using cached imageio-2.31.3-py3-none-any.whl (313 kB)\n",
      "Collecting huggingface-hub\n",
      "  Using cached huggingface_hub-0.17.2-py3-none-any.whl (294 kB)\n",
      "Collecting pyyaml\n",
      "  Using cached PyYAML-6.0.1-cp310-cp310-win_amd64.whl (145 kB)\n",
      "Collecting torch>=1.10.0\n",
      "  Using cached torch-2.0.1-cp310-cp310-win_amd64.whl (172.3 MB)\n",
      "Requirement already satisfied: packaging>=20.0 in c:\\users\\admin\\desktop\\ict3104-team09-2023\\ict3104_team09-venv\\lib\\site-packages (from accelerate) (23.1)\n",
      "Requirement already satisfied: psutil in c:\\users\\admin\\desktop\\ict3104-team09-2023\\ict3104_team09-venv\\lib\\site-packages (from accelerate) (5.9.5)\n",
      "Collecting numpy>=1.17\n",
      "  Using cached numpy-1.26.0-cp310-cp310-win_amd64.whl (15.8 MB)\n",
      "Collecting antlr4-python3-runtime==4.9.*\n",
      "  Using cached antlr4-python3-runtime-4.9.3.tar.gz (117 kB)\n",
      "Collecting tzdata>=2022.1\n",
      "  Using cached tzdata-2023.3-py2.py3-none-any.whl (341 kB)\n",
      "Collecting pytz>=2020.1\n",
      "  Using cached pytz-2023.3.post1-py2.py3-none-any.whl (502 kB)\n",
      "Requirement already satisfied: python-dateutil>=2.8.2 in c:\\users\\admin\\desktop\\ict3104-team09-2023\\ict3104_team09-venv\\lib\\site-packages (from pandas) (2.8.2)\n",
      "Collecting pillow>=8.3.2\n",
      "  Using cached Pillow-10.0.1-cp310-cp310-win_amd64.whl (2.5 MB)\n",
      "Requirement already satisfied: six>=1.5 in c:\\users\\admin\\desktop\\ict3104-team09-2023\\ict3104_team09-venv\\lib\\site-packages (from python-dateutil>=2.8.2->pandas) (1.16.0)\n",
      "Requirement already satisfied: sympy in c:\\users\\admin\\desktop\\ict3104-team09-2023\\ict3104_team09-venv\\lib\\site-packages (from torch>=1.10.0->accelerate) (1.12)\n",
      "Requirement already satisfied: typing-extensions in c:\\users\\admin\\desktop\\ict3104-team09-2023\\ict3104_team09-venv\\lib\\site-packages (from torch>=1.10.0->accelerate) (4.8.0)\n",
      "Collecting jinja2\n",
      "  Using cached Jinja2-3.1.2-py3-none-any.whl (133 kB)\n",
      "Collecting networkx\n",
      "  Using cached networkx-3.1-py3-none-any.whl (2.1 MB)\n",
      "Collecting filelock\n",
      "  Using cached filelock-3.12.4-py3-none-any.whl (11 kB)\n",
      "Requirement already satisfied: tqdm>=4.42.1 in c:\\users\\admin\\desktop\\ict3104-team09-2023\\ict3104_team09-venv\\lib\\site-packages (from huggingface-hub->accelerate) (4.66.1)\n",
      "Collecting requests\n",
      "  Using cached requests-2.31.0-py3-none-any.whl (62 kB)\n",
      "Collecting fsspec\n",
      "  Using cached fsspec-2023.9.2-py3-none-any.whl (173 kB)\n",
      "Requirement already satisfied: colorama in c:\\users\\admin\\desktop\\ict3104-team09-2023\\ict3104_team09-venv\\lib\\site-packages (from tqdm>=4.42.1->huggingface-hub->accelerate) (0.4.6)\n",
      "Requirement already satisfied: MarkupSafe>=2.0 in c:\\users\\admin\\desktop\\ict3104-team09-2023\\ict3104_team09-venv\\lib\\site-packages (from jinja2->torch>=1.10.0->accelerate) (2.1.3)\n",
      "Requirement already satisfied: urllib3<3,>=1.21.1 in c:\\users\\admin\\desktop\\ict3104-team09-2023\\ict3104_team09-venv\\lib\\site-packages (from requests->huggingface-hub->accelerate) (2.0.5)\n",
      "Requirement already satisfied: certifi>=2017.4.17 in c:\\users\\admin\\desktop\\ict3104-team09-2023\\ict3104_team09-venv\\lib\\site-packages (from requests->huggingface-hub->accelerate) (2023.7.22)\n",
      "Requirement already satisfied: idna<4,>=2.5 in c:\\users\\admin\\desktop\\ict3104-team09-2023\\ict3104_team09-venv\\lib\\site-packages (from requests->huggingface-hub->accelerate) (3.4)\n",
      "Requirement already satisfied: charset-normalizer<4,>=2 in c:\\users\\admin\\desktop\\ict3104-team09-2023\\ict3104_team09-venv\\lib\\site-packages (from requests->huggingface-hub->accelerate) (3.2.0)\n",
      "Requirement already satisfied: mpmath>=0.19 in c:\\users\\admin\\desktop\\ict3104-team09-2023\\ict3104_team09-venv\\lib\\site-packages (from sympy->torch>=1.10.0->accelerate) (1.3.0)\n",
      "Using legacy 'setup.py install' for antlr4-python3-runtime, since package 'wheel' is not installed.\n",
      "Installing collected packages: requests, pyyaml, networkx, jinja2, fsspec, filelock, tzdata, torch, pytz, pillow, numpy, huggingface-hub, antlr4-python3-runtime, pandas, opencv-python-headless, opencv-python, omegaconf, imageio, einops, decord, av, accelerate\n",
      "    Running setup.py install for antlr4-python3-runtime: started\n",
      "    Running setup.py install for antlr4-python3-runtime: finished with status 'done'\n",
      "Successfully installed accelerate-0.23.0 antlr4-python3-runtime-4.9.3 av-10.0.0 decord-0.6.0 einops-0.6.1 filelock-3.12.4 fsspec-2023.9.2 huggingface-hub-0.17.2 imageio-2.31.3 jinja2-3.1.2 networkx-3.1 numpy-1.26.0 omegaconf-2.3.0 opencv-python-4.8.0.76 opencv-python-headless-4.8.0.76 pandas-2.1.1 pillow-10.0.1 pytz-2023.3.post1 pyyaml-6.0.1 requests-2.31.0 torch-2.0.1 tzdata-2023.3\n"
     ]
    },
    {
     "name": "stderr",
     "output_type": "stream",
     "text": [
      "WARNING: You are using pip version 21.2.3; however, version 23.2.1 is available.\n",
      "You should consider upgrading via the 'c:\\Users\\Admin\\Desktop\\ict3104-team09-2023\\ict3104_team09-venv\\Scripts\\python.exe -m pip install --upgrade pip' command.\n"
     ]
    },
    {
     "name": "stdout",
     "output_type": "stream",
     "text": [
      "Collecting triton==2.0.0"
     ]
    },
    {
     "name": "stderr",
     "output_type": "stream",
     "text": [
      "WARNING: You are using pip version 21.2.3; however, version 23.2.1 is available.\n",
      "You should consider upgrading via the 'c:\\Users\\Admin\\Desktop\\ict3104-team09-2023\\ict3104_team09-venv\\Scripts\\python.exe -m pip install --upgrade pip' command.\n"
     ]
    },
    {
     "name": "stdout",
     "output_type": "stream",
     "text": [
      "\n",
      "  Downloading https://huggingface.co/r4ziel/xformers_pre_built/resolve/main/triton-2.0.0-cp310-cp310-win_amd64.whl (12.6 MB)\n",
      "Requirement already satisfied: filelock in c:\\users\\admin\\desktop\\ict3104-team09-2023\\ict3104_team09-venv\\lib\\site-packages (from triton==2.0.0) (3.12.4)\n",
      "Collecting cmake\n",
      "  Using cached cmake-3.27.5-py2.py3-none-win_amd64.whl (34.6 MB)\n",
      "Requirement already satisfied: torch in c:\\users\\admin\\desktop\\ict3104-team09-2023\\ict3104_team09-venv\\lib\\site-packages (from triton==2.0.0) (2.0.1)\n",
      "Requirement already satisfied: sympy in c:\\users\\admin\\desktop\\ict3104-team09-2023\\ict3104_team09-venv\\lib\\site-packages (from torch->triton==2.0.0) (1.12)\n",
      "Requirement already satisfied: jinja2 in c:\\users\\admin\\desktop\\ict3104-team09-2023\\ict3104_team09-venv\\lib\\site-packages (from torch->triton==2.0.0) (3.1.2)\n",
      "Requirement already satisfied: typing-extensions in c:\\users\\admin\\desktop\\ict3104-team09-2023\\ict3104_team09-venv\\lib\\site-packages (from torch->triton==2.0.0) (4.8.0)\n",
      "Requirement already satisfied: networkx in c:\\users\\admin\\desktop\\ict3104-team09-2023\\ict3104_team09-venv\\lib\\site-packages (from torch->triton==2.0.0) (3.1)\n",
      "Requirement already satisfied: MarkupSafe>=2.0 in c:\\users\\admin\\desktop\\ict3104-team09-2023\\ict3104_team09-venv\\lib\\site-packages (from jinja2->torch->triton==2.0.0) (2.1.3)\n",
      "Requirement already satisfied: mpmath>=0.19 in c:\\users\\admin\\desktop\\ict3104-team09-2023\\ict3104_team09-venv\\lib\\site-packages (from sympy->torch->triton==2.0.0) (1.3.0)\n",
      "Installing collected packages: cmake, triton\n",
      "Successfully installed cmake-3.27.5 triton-2.0.0\n",
      "Collecting diffusers==0.11.1"
     ]
    },
    {
     "name": "stderr",
     "output_type": "stream",
     "text": [
      "WARNING: You are using pip version 21.2.3; however, version 23.2.1 is available.\n",
      "You should consider upgrading via the 'c:\\Users\\Admin\\Desktop\\ict3104-team09-2023\\ict3104_team09-venv\\Scripts\\python.exe -m pip install --upgrade pip' command.\n"
     ]
    },
    {
     "name": "stdout",
     "output_type": "stream",
     "text": [
      "\n",
      "  Using cached diffusers-0.11.1-py3-none-any.whl (524 kB)\n",
      "Collecting transformers==4.26.0\n",
      "  Using cached transformers-4.26.0-py3-none-any.whl (6.3 MB)\n",
      "Collecting bitsandbytes==0.35.4\n",
      "  Using cached bitsandbytes-0.35.4-py3-none-any.whl (62.5 MB)\n",
      "Collecting imageio-ffmpeg\n",
      "  Using cached imageio_ffmpeg-0.4.9-py3-none-win_amd64.whl (22.6 MB)\n",
      "Collecting xformers\n",
      "  Using cached xformers-0.0.21-cp310-cp310-win_amd64.whl (97.5 MB)\n",
      "Requirement already satisfied: numpy in c:\\users\\admin\\desktop\\ict3104-team09-2023\\ict3104_team09-venv\\lib\\site-packages (from diffusers==0.11.1) (1.26.0)\n",
      "Requirement already satisfied: filelock in c:\\users\\admin\\desktop\\ict3104-team09-2023\\ict3104_team09-venv\\lib\\site-packages (from diffusers==0.11.1) (3.12.4)\n",
      "Collecting regex!=2019.12.17\n",
      "  Using cached regex-2023.8.8-cp310-cp310-win_amd64.whl (268 kB)\n",
      "Requirement already satisfied: Pillow in c:\\users\\admin\\desktop\\ict3104-team09-2023\\ict3104_team09-venv\\lib\\site-packages (from diffusers==0.11.1) (10.0.1)\n",
      "Collecting importlib-metadata\n",
      "  Using cached importlib_metadata-6.8.0-py3-none-any.whl (22 kB)\n",
      "Requirement already satisfied: requests in c:\\users\\admin\\desktop\\ict3104-team09-2023\\ict3104_team09-venv\\lib\\site-packages (from diffusers==0.11.1) (2.31.0)\n",
      "Requirement already satisfied: huggingface-hub>=0.10.0 in c:\\users\\admin\\desktop\\ict3104-team09-2023\\ict3104_team09-venv\\lib\\site-packages (from diffusers==0.11.1) (0.17.2)\n",
      "Requirement already satisfied: tqdm>=4.27 in c:\\users\\admin\\desktop\\ict3104-team09-2023\\ict3104_team09-venv\\lib\\site-packages (from transformers==4.26.0) (4.66.1)\n",
      "Collecting tokenizers!=0.11.3,<0.14,>=0.11.1\n",
      "  Using cached tokenizers-0.13.3-cp310-cp310-win_amd64.whl (3.5 MB)\n",
      "Requirement already satisfied: packaging>=20.0 in c:\\users\\admin\\desktop\\ict3104-team09-2023\\ict3104_team09-venv\\lib\\site-packages (from transformers==4.26.0) (23.1)\n",
      "Requirement already satisfied: pyyaml>=5.1 in c:\\users\\admin\\desktop\\ict3104-team09-2023\\ict3104_team09-venv\\lib\\site-packages (from transformers==4.26.0) (6.0.1)\n",
      "Requirement already satisfied: setuptools in c:\\users\\admin\\desktop\\ict3104-team09-2023\\ict3104_team09-venv\\lib\\site-packages (from imageio-ffmpeg) (57.4.0)\n",
      "Requirement already satisfied: torch==2.0.1 in c:\\users\\admin\\desktop\\ict3104-team09-2023\\ict3104_team09-venv\\lib\\site-packages (from xformers) (2.0.1)\n",
      "Requirement already satisfied: sympy in c:\\users\\admin\\desktop\\ict3104-team09-2023\\ict3104_team09-venv\\lib\\site-packages (from torch==2.0.1->xformers) (1.12)\n",
      "Requirement already satisfied: networkx in c:\\users\\admin\\desktop\\ict3104-team09-2023\\ict3104_team09-venv\\lib\\site-packages (from torch==2.0.1->xformers) (3.1)\n",
      "Requirement already satisfied: jinja2 in c:\\users\\admin\\desktop\\ict3104-team09-2023\\ict3104_team09-venv\\lib\\site-packages (from torch==2.0.1->xformers) (3.1.2)\n",
      "Requirement already satisfied: typing-extensions in c:\\users\\admin\\desktop\\ict3104-team09-2023\\ict3104_team09-venv\\lib\\site-packages (from torch==2.0.1->xformers) (4.8.0)\n",
      "Requirement already satisfied: fsspec in c:\\users\\admin\\desktop\\ict3104-team09-2023\\ict3104_team09-venv\\lib\\site-packages (from huggingface-hub>=0.10.0->diffusers==0.11.1) (2023.9.2)\n",
      "Requirement already satisfied: colorama in c:\\users\\admin\\desktop\\ict3104-team09-2023\\ict3104_team09-venv\\lib\\site-packages (from tqdm>=4.27->transformers==4.26.0) (0.4.6)\n",
      "Collecting zipp>=0.5\n",
      "  Using cached zipp-3.17.0-py3-none-any.whl (7.4 kB)\n",
      "Requirement already satisfied: MarkupSafe>=2.0 in c:\\users\\admin\\desktop\\ict3104-team09-2023\\ict3104_team09-venv\\lib\\site-packages (from jinja2->torch==2.0.1->xformers) (2.1.3)\n",
      "Requirement already satisfied: idna<4,>=2.5 in c:\\users\\admin\\desktop\\ict3104-team09-2023\\ict3104_team09-venv\\lib\\site-packages (from requests->diffusers==0.11.1) (3.4)\n",
      "Requirement already satisfied: certifi>=2017.4.17 in c:\\users\\admin\\desktop\\ict3104-team09-2023\\ict3104_team09-venv\\lib\\site-packages (from requests->diffusers==0.11.1) (2023.7.22)\n",
      "Requirement already satisfied: urllib3<3,>=1.21.1 in c:\\users\\admin\\desktop\\ict3104-team09-2023\\ict3104_team09-venv\\lib\\site-packages (from requests->diffusers==0.11.1) (2.0.5)\n",
      "Requirement already satisfied: charset-normalizer<4,>=2 in c:\\users\\admin\\desktop\\ict3104-team09-2023\\ict3104_team09-venv\\lib\\site-packages (from requests->diffusers==0.11.1) (3.2.0)\n",
      "Requirement already satisfied: mpmath>=0.19 in c:\\users\\admin\\desktop\\ict3104-team09-2023\\ict3104_team09-venv\\lib\\site-packages (from sympy->torch==2.0.1->xformers) (1.3.0)\n",
      "Installing collected packages: zipp, tokenizers, regex, importlib-metadata, xformers, transformers, imageio-ffmpeg, diffusers, bitsandbytes\n",
      "Successfully installed bitsandbytes-0.35.4 diffusers-0.11.1 imageio-ffmpeg-0.4.9 importlib-metadata-6.8.0 regex-2023.8.8 tokenizers-0.13.3 transformers-4.26.0 xformers-0.0.21 zipp-3.17.0\n",
      "Looking in links: https://download.pytorch.org/whl/cu118/torch_stable.html\n",
      "Collecting torch==2.0.1+cu118\n",
      "  Using cached https://download.pytorch.org/whl/cu118/torch-2.0.1%2Bcu118-cp310-cp310-win_amd64.whl (2619.1 MB)\n",
      "Collecting torchvision\n",
      "  Using cached https://download.pytorch.org/whl/cu118/torchvision-0.15.2%2Bcu118-cp310-cp310-win_amd64.whl (4.9 MB)\n",
      "Requirement already satisfied: jinja2 in c:\\users\\admin\\desktop\\ict3104-team09-2023\\ict3104_team09-venv\\lib\\site-packages (from torch==2.0.1+cu118) (3.1.2)\n",
      "Requirement already satisfied: sympy in c:\\users\\admin\\desktop\\ict3104-team09-2023\\ict3104_team09-venv\\lib\\site-packages (from torch==2.0.1+cu118) (1.12)\n",
      "Requirement already satisfied: typing-extensions in c:\\users\\admin\\desktop\\ict3104-team09-2023\\ict3104_team09-venv\\lib\\site-packages (from torch==2.0.1+cu118) (4.8.0)\n",
      "Requirement already satisfied: networkx in c:\\users\\admin\\desktop\\ict3104-team09-2023\\ict3104_team09-venv\\lib\\site-packages (from torch==2.0.1+cu118) (3.1)\n",
      "Requirement already satisfied: filelock in c:\\users\\admin\\desktop\\ict3104-team09-2023\\ict3104_team09-venv\\lib\\site-packages (from torch==2.0.1+cu118) (3.12.4)\n",
      "Requirement already satisfied: pillow!=8.3.*,>=5.3.0 in c:\\users\\admin\\desktop\\ict3104-team09-2023\\ict3104_team09-venv\\lib\\site-packages (from torchvision) (10.0.1)\n",
      "Requirement already satisfied: requests in c:\\users\\admin\\desktop\\ict3104-team09-2023\\ict3104_team09-venv\\lib\\site-packages (from torchvision) (2.31.0)\n",
      "Requirement already satisfied: numpy in c:\\users\\admin\\desktop\\ict3104-team09-2023\\ict3104_team09-venv\\lib\\site-packages (from torchvision) (1.26.0)\n",
      "Requirement already satisfied: MarkupSafe>=2.0 in c:\\users\\admin\\desktop\\ict3104-team09-2023\\ict3104_team09-venv\\lib\\site-packages (from jinja2->torch==2.0.1+cu118) (2.1.3)\n",
      "Requirement already satisfied: idna<4,>=2.5 in c:\\users\\admin\\desktop\\ict3104-team09-2023\\ict3104_team09-venv\\lib\\site-packages (from requests->torchvision) (3.4)\n",
      "Requirement already satisfied: charset-normalizer<4,>=2 in c:\\users\\admin\\desktop\\ict3104-team09-2023\\ict3104_team09-venv\\lib\\site-packages (from requests->torchvision) (3.2.0)\n",
      "Requirement already satisfied: certifi>=2017.4.17 in c:\\users\\admin\\desktop\\ict3104-team09-2023\\ict3104_team09-venv\\lib\\site-packages (from requests->torchvision) (2023.7.22)\n",
      "Requirement already satisfied: urllib3<3,>=1.21.1 in c:\\users\\admin\\desktop\\ict3104-team09-2023\\ict3104_team09-venv\\lib\\site-packages (from requests->torchvision) (2.0.5)\n",
      "Requirement already satisfied: mpmath>=0.19 in c:\\users\\admin\\desktop\\ict3104-team09-2023\\ict3104_team09-venv\\lib\\site-packages (from sympy->torch==2.0.1+cu118) (1.3.0)\n",
      "Installing collected packages: torch, torchvision\n",
      "  Attempting uninstall: torch\n",
      "    Found existing installation: torch 2.0.1\n",
      "    Uninstalling torch-2.0.1:\n",
      "      Successfully uninstalled torch-2.0.1\n",
      "Successfully installed torch-2.0.1+cu118 torchvision-0.15.2+cu118\n"
     ]
    },
    {
     "name": "stderr",
     "output_type": "stream",
     "text": [
      "WARNING: You are using pip version 21.2.3; however, version 23.2.1 is available.\n",
      "You should consider upgrading via the 'c:\\Users\\Admin\\Desktop\\ict3104-team09-2023\\ict3104_team09-venv\\Scripts\\python.exe -m pip install --upgrade pip' command.\n"
     ]
    }
   ],
   "source": [
    "# Install dependencies in the virtual environment (WINDOWS ONLY)\n",
    "!.\\ict3104_team09-venv\\Scripts\\python -m pip install accelerate omegaconf einops av decord pandas opencv-python opencv-python-headless imageio\n",
    "\n",
    "!.\\ict3104_team09-venv\\Scripts\\python -m pip install  https://huggingface.co/r4ziel/xformers_pre_built/resolve/main/triton-2.0.0-cp310-cp310-win_amd64.whl\n",
    "\n",
    "!.\\ict3104_team09-venv\\Scripts\\python -m pip install diffusers==0.11.1 transformers==4.26.0 bitsandbytes==0.35.4 imageio-ffmpeg xformers\n",
    "\n",
    "!.\\ict3104_team09-venv\\Scripts\\python -m pip install torch==2.0.1+cu118 torchvision -f https://download.pytorch.org/whl/cu118/torch_stable.html\n",
    "\n",
    "!.\\ict3104_team09-venv\\Scripts\\python -m pip install ipywidgets\n",
    "\n",
    "!.\\ict3104_team09-venv\\Scripts\\python -m pip install -r requirements.txt"
   ]
  },
  {
   "cell_type": "code",
   "execution_count": 8,
   "id": "32321303",
   "metadata": {},
   "outputs": [
    {
     "name": "stdout",
     "output_type": "stream",
     "text": [
      "c:\\Users\\Admin\\Desktop\\ict3104-team09-2023\\FollowYourPose\n"
     ]
    }
   ],
   "source": [
    "import os\n",
    "\n",
    "# Change directory to FollowYourPose\n",
    "os.chdir('./FollowYourPose')\n",
    "\n",
    "# List Current Directory\n",
    "print(os.getcwd())"
   ]
  },
  {
   "cell_type": "code",
   "execution_count": null,
   "id": "16b87e16",
   "metadata": {},
   "outputs": [],
   "source": [
    "import shutil\n",
    "\n",
    "os.makedirs(\"checkpoints\", exist_ok=True)\n",
    "!git lfs install\n",
    "!git clone https://huggingface.co/YueMafighting/FollowYourPose_v1\n",
    "\n",
    "source_dir = 'FollowYourPose_v1'\n",
    "dest_dir = 'checkpoints'\n",
    "\n",
    "for filename in os.listdir(source_dir):\n",
    "    source_path = os.path.join(source_dir, filename)\n",
    "    dest_path = os.path.join(dest_dir, filename)\n",
    "    shutil.move(source_path, dest_path)\n",
    "\n",
    "os.rmdir(source_dir)"
   ]
  },
  {
   "cell_type": "markdown",
   "id": "829aa3d5",
   "metadata": {},
   "source": [
    "## Data Exploration Section"
   ]
  },
  {
   "cell_type": "code",
   "execution_count": 12,
   "id": "3458814e",
   "metadata": {},
   "outputs": [
    {
     "data": {
      "application/vnd.jupyter.widget-view+json": {
       "model_id": "c8be930cf0a24c4d82635eab2b9377da",
       "version_major": 2,
       "version_minor": 0
      },
      "text/plain": [
       "Dropdown(description='Select Video:', options=('vis_ikun_pose1.MOV', 'vis_ikun_pose2.mov'), value='vis_ikun_po…"
      ]
     },
     "metadata": {},
     "output_type": "display_data"
    }
   ],
   "source": [
    "import os\n",
    "import ipywidgets as widgets\n",
    "from IPython.display import display, clear_output\n",
    "import subprocess\n",
    "\n",
    "# Function to play the selected video\n",
    "def play_video(video_name):\n",
    "    video_path = os.path.join(folder_path, video_name)\n",
    "    # Open the video using the default video player\n",
    "    subprocess.Popen(f'start {video_path}', shell=True)\n",
    "\n",
    "# Path to the folder containing your videos\n",
    "folder_path = './pose_example/' \n",
    "\n",
    "# List all video files in the folder\n",
    "video_files = [f for f in os.listdir(folder_path) if f.endswith(('.mp4', '.avi', '.mov','MOV'))]  # Add other video formats if needed\n",
    "\n",
    "# Create a dropdown widget for video selection\n",
    "dropdown = widgets.Dropdown(\n",
    "    options=video_files,\n",
    "    description='Select Video:',\n",
    "    disabled=False,\n",
    ")\n",
    "\n",
    "# Display the dropdown and set up its event\n",
    "def on_dropdown_change(change):\n",
    "    if change['type'] == 'change' and change['name'] == 'value':\n",
    "        play_video(change['new'])\n",
    "\n",
    "dropdown.observe(on_dropdown_change)\n",
    "display(dropdown)\n"
   ]
  },
  {
   "cell_type": "markdown",
   "id": "953290a2",
   "metadata": {},
   "source": [
    "## MM Pose Section"
   ]
  },
  {
   "cell_type": "code",
   "execution_count": null,
   "id": "6f0036ef",
   "metadata": {},
   "outputs": [],
   "source": [
    "# To convert the video to framees (Skeleton)"
   ]
  },
  {
   "cell_type": "markdown",
   "id": "1b68e623",
   "metadata": {},
   "source": [
    "## Inference Section (Dont run yet if your com dont have a good GPU CFM CRASH)"
   ]
  },
  {
   "cell_type": "code",
   "execution_count": 11,
   "id": "827108fa",
   "metadata": {},
   "outputs": [
    {
     "name": "stdout",
     "output_type": "stream",
     "text": [
      "^C\n"
     ]
    }
   ],
   "source": [
    "# Modify/Generate the config file\n",
    "\n",
    "# Choose input video (skeleton_path) \n",
    "\n",
    "# Command to run the program\n",
    "!python txt2video.py --config=\"configs/pose_sample.yaml\" --skeleton_path=\"./pose_example/vis_ikun_pose2.mov\"\n",
    "\n",
    "#Preview the generated output\n"
   ]
  },
  {
   "cell_type": "markdown",
   "id": "1ae3c9f6",
   "metadata": {},
   "source": [
    "## Training Section"
   ]
  },
  {
   "cell_type": "code",
   "execution_count": null,
   "id": "09cce9bc",
   "metadata": {},
   "outputs": [],
   "source": []
  },
  {
   "cell_type": "markdown",
   "id": "257e507f",
   "metadata": {},
   "source": [
    "## Testing Section"
   ]
  },
  {
   "cell_type": "code",
   "execution_count": null,
   "id": "53e09ce1",
   "metadata": {},
   "outputs": [],
   "source": []
  },
  {
   "cell_type": "markdown",
   "id": "324a25d8",
   "metadata": {},
   "source": [
    "## Results Section"
   ]
  },
  {
   "cell_type": "code",
   "execution_count": null,
   "id": "9bc34370",
   "metadata": {},
   "outputs": [],
   "source": []
  }
 ],
 "metadata": {
  "kernelspec": {
   "display_name": "Python 3 (ipykernel)",
   "language": "python",
   "name": "python3"
  },
  "language_info": {
   "codemirror_mode": {
    "name": "ipython",
    "version": 3
   },
   "file_extension": ".py",
   "mimetype": "text/x-python",
   "name": "python",
   "nbconvert_exporter": "python",
   "pygments_lexer": "ipython3",
   "version": "3.10.0"
  }
 },
 "nbformat": 4,
 "nbformat_minor": 5
}
