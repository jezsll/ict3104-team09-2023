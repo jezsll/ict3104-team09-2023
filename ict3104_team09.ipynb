{
 "cells": [
  {
   "attachments": {},
   "cell_type": "markdown",
   "id": "b7f05251",
   "metadata": {},
   "source": [
    "## Installation and Setup"
   ]
  },
  {
   "cell_type": "code",
   "execution_count": 5,
   "id": "c598d6bf-5bf0-42c4-b926-4ca5f710f786",
   "metadata": {},
   "outputs": [
    {
     "name": "stderr",
     "output_type": "stream",
     "text": [
      "Error: [Errno 13] Permission denied: 'c:\\\\Users\\\\Jia Xin\\\\Desktop\\\\School Files_Year3\\\\ICT3104\\\\Proj_Repo\\\\ict3104_team09-venv\\\\Scripts\\\\python.exe'\n"
     ]
    }
   ],
   "source": [
    "# Create virtual environment\n",
    "\n",
    "# Windows\n",
    "!python -m venv ict3104_team09-venv\n",
    "\n",
    "# Mac\n",
    "# !python3 -m venv ict3104_team09-venv"
   ]
  },
  {
   "cell_type": "code",
   "execution_count": 6,
   "id": "766c6c1e-8194-4b62-a02c-eff3066e7c8a",
   "metadata": {},
   "outputs": [],
   "source": [
    "# Activate virtual environment\n",
    "\n",
    "# Windows\n",
    "!ict3104_team09-venv\\Scripts\\Activate\n",
    "\n",
    "# Mac\n",
    "# !source ict3104_team09-venv/bin/activate"
   ]
  },
  {
   "cell_type": "code",
   "execution_count": 7,
   "id": "3b9c29da",
   "metadata": {},
   "outputs": [
    {
     "name": "stdout",
     "output_type": "stream",
     "text": [
      "Defaulting to user installation because normal site-packages is not writeable\n",
      "Requirement already satisfied: ipykernel in c:\\users\\jia xin\\appdata\\roaming\\python\\python311\\site-packages (6.25.2)\n",
      "Requirement already satisfied: comm>=0.1.1 in c:\\users\\jia xin\\appdata\\roaming\\python\\python311\\site-packages (from ipykernel) (0.1.4)\n",
      "Requirement already satisfied: debugpy>=1.6.5 in c:\\users\\jia xin\\appdata\\roaming\\python\\python311\\site-packages (from ipykernel) (1.8.0)\n",
      "Requirement already satisfied: ipython>=7.23.1 in c:\\users\\jia xin\\appdata\\roaming\\python\\python311\\site-packages (from ipykernel) (8.15.0)\n",
      "Requirement already satisfied: jupyter-client>=6.1.12 in c:\\users\\jia xin\\appdata\\roaming\\python\\python311\\site-packages (from ipykernel) (8.3.1)\n",
      "Requirement already satisfied: jupyter-core!=5.0.*,>=4.12 in c:\\users\\jia xin\\appdata\\roaming\\python\\python311\\site-packages (from ipykernel) (5.3.1)\n",
      "Requirement already satisfied: matplotlib-inline>=0.1 in c:\\users\\jia xin\\appdata\\roaming\\python\\python311\\site-packages (from ipykernel) (0.1.6)\n",
      "Requirement already satisfied: nest-asyncio in c:\\users\\jia xin\\appdata\\roaming\\python\\python311\\site-packages (from ipykernel) (1.5.8)\n",
      "Requirement already satisfied: packaging in c:\\users\\jia xin\\appdata\\roaming\\python\\python311\\site-packages (from ipykernel) (23.1)\n",
      "Requirement already satisfied: psutil in c:\\users\\jia xin\\appdata\\roaming\\python\\python311\\site-packages (from ipykernel) (5.9.5)\n",
      "Requirement already satisfied: pyzmq>=20 in c:\\users\\jia xin\\appdata\\roaming\\python\\python311\\site-packages (from ipykernel) (25.1.1)\n",
      "Requirement already satisfied: tornado>=6.1 in c:\\users\\jia xin\\appdata\\roaming\\python\\python311\\site-packages (from ipykernel) (6.3.3)\n",
      "Requirement already satisfied: traitlets>=5.4.0 in c:\\users\\jia xin\\appdata\\roaming\\python\\python311\\site-packages (from ipykernel) (5.10.0)\n",
      "Requirement already satisfied: backcall in c:\\users\\jia xin\\appdata\\roaming\\python\\python311\\site-packages (from ipython>=7.23.1->ipykernel) (0.2.0)\n",
      "Requirement already satisfied: decorator in c:\\users\\jia xin\\appdata\\roaming\\python\\python311\\site-packages (from ipython>=7.23.1->ipykernel) (5.1.1)\n",
      "Requirement already satisfied: jedi>=0.16 in c:\\users\\jia xin\\appdata\\roaming\\python\\python311\\site-packages (from ipython>=7.23.1->ipykernel) (0.19.0)\n",
      "Requirement already satisfied: pickleshare in c:\\users\\jia xin\\appdata\\roaming\\python\\python311\\site-packages (from ipython>=7.23.1->ipykernel) (0.7.5)\n",
      "Requirement already satisfied: prompt-toolkit!=3.0.37,<3.1.0,>=3.0.30 in c:\\users\\jia xin\\appdata\\roaming\\python\\python311\\site-packages (from ipython>=7.23.1->ipykernel) (3.0.39)\n",
      "Requirement already satisfied: pygments>=2.4.0 in c:\\users\\jia xin\\appdata\\roaming\\python\\python311\\site-packages (from ipython>=7.23.1->ipykernel) (2.16.1)\n",
      "Requirement already satisfied: stack-data in c:\\users\\jia xin\\appdata\\roaming\\python\\python311\\site-packages (from ipython>=7.23.1->ipykernel) (0.6.2)\n",
      "Requirement already satisfied: colorama in c:\\users\\jia xin\\appdata\\roaming\\python\\python311\\site-packages (from ipython>=7.23.1->ipykernel) (0.4.6)\n",
      "Requirement already satisfied: python-dateutil>=2.8.2 in c:\\users\\jia xin\\appdata\\roaming\\python\\python311\\site-packages (from jupyter-client>=6.1.12->ipykernel) (2.8.2)\n",
      "Requirement already satisfied: platformdirs>=2.5 in c:\\users\\jia xin\\appdata\\roaming\\python\\python311\\site-packages (from jupyter-core!=5.0.*,>=4.12->ipykernel) (3.10.0)\n",
      "Requirement already satisfied: pywin32>=300 in c:\\users\\jia xin\\appdata\\roaming\\python\\python311\\site-packages (from jupyter-core!=5.0.*,>=4.12->ipykernel) (306)\n",
      "Requirement already satisfied: parso<0.9.0,>=0.8.3 in c:\\users\\jia xin\\appdata\\roaming\\python\\python311\\site-packages (from jedi>=0.16->ipython>=7.23.1->ipykernel) (0.8.3)\n",
      "Requirement already satisfied: wcwidth in c:\\users\\jia xin\\appdata\\roaming\\python\\python311\\site-packages (from prompt-toolkit!=3.0.37,<3.1.0,>=3.0.30->ipython>=7.23.1->ipykernel) (0.2.6)\n",
      "Requirement already satisfied: six>=1.5 in c:\\users\\jia xin\\appdata\\roaming\\python\\python311\\site-packages (from python-dateutil>=2.8.2->jupyter-client>=6.1.12->ipykernel) (1.16.0)\n",
      "Requirement already satisfied: executing>=1.2.0 in c:\\users\\jia xin\\appdata\\roaming\\python\\python311\\site-packages (from stack-data->ipython>=7.23.1->ipykernel) (1.2.0)\n",
      "Requirement already satisfied: asttokens>=2.1.0 in c:\\users\\jia xin\\appdata\\roaming\\python\\python311\\site-packages (from stack-data->ipython>=7.23.1->ipykernel) (2.4.0)\n",
      "Requirement already satisfied: pure-eval in c:\\users\\jia xin\\appdata\\roaming\\python\\python311\\site-packages (from stack-data->ipython>=7.23.1->ipykernel) (0.2.2)\n",
      "Installed kernelspec ict3104_team09-venv in C:\\Users\\Jia Xin\\AppData\\Roaming\\jupyter\\kernels\\ict3104_team09-venv\n"
     ]
    }
   ],
   "source": [
    "# Install Kernel\n",
    "\n",
    "!pip install ipykernel\n",
    "!python -m ipykernel install --user --name=ict3104_team09-venv\n",
    "\n",
    "# Mac\n",
    "# !pip3 install ipykernel\n",
    "# !python3 -m ipykernel install --user --name=ict3104_team09-venv\n"
   ]
  },
  {
   "cell_type": "code",
   "execution_count": 8,
   "id": "2df2a35e-801a-4e32-9f0f-8ad36f1a9d98",
   "metadata": {},
   "outputs": [
    {
     "name": "stderr",
     "output_type": "stream",
     "text": [
      "fatal: destination path 'FollowYourPose' already exists and is not an empty directory.\n"
     ]
    }
   ],
   "source": [
    "# Clone the Project \n",
    "!git clone https://github.com/mayuelala/FollowYourPose.git"
   ]
  },
  {
   "cell_type": "code",
   "execution_count": 9,
   "id": "abf594c0-76f8-4976-8533-a564d68f7a3a",
   "metadata": {},
   "outputs": [
    {
     "name": "stdout",
     "output_type": "stream",
     "text": [
      "Defaulting to user installation because normal site-packages is not writeable\n",
      "Requirement already satisfied: accelerate in c:\\users\\jia xin\\appdata\\roaming\\python\\python311\\site-packages (0.23.0)\n",
      "Requirement already satisfied: omegaconf in c:\\users\\jia xin\\appdata\\roaming\\python\\python311\\site-packages (2.3.0)\n",
      "Requirement already satisfied: einops in c:\\users\\jia xin\\appdata\\roaming\\python\\python311\\site-packages (0.6.1)\n",
      "Requirement already satisfied: av in c:\\users\\jia xin\\appdata\\roaming\\python\\python311\\site-packages (10.0.0)\n",
      "Requirement already satisfied: decord in c:\\users\\jia xin\\appdata\\roaming\\python\\python311\\site-packages (0.6.0)\n",
      "Requirement already satisfied: pandas in c:\\users\\jia xin\\appdata\\roaming\\python\\python311\\site-packages (1.5.3)\n",
      "Requirement already satisfied: opencv-python in c:\\users\\jia xin\\appdata\\roaming\\python\\python311\\site-packages (4.8.0.76)\n",
      "Requirement already satisfied: opencv-python-headless in c:\\users\\jia xin\\appdata\\roaming\\python\\python311\\site-packages (4.8.0.76)\n",
      "Requirement already satisfied: imageio in c:\\users\\jia xin\\appdata\\roaming\\python\\python311\\site-packages (2.31.3)\n",
      "Requirement already satisfied: numpy>=1.17 in c:\\users\\jia xin\\appdata\\roaming\\python\\python311\\site-packages (from accelerate) (1.23.5)\n",
      "Requirement already satisfied: packaging>=20.0 in c:\\users\\jia xin\\appdata\\roaming\\python\\python311\\site-packages (from accelerate) (23.1)\n",
      "Requirement already satisfied: psutil in c:\\users\\jia xin\\appdata\\roaming\\python\\python311\\site-packages (from accelerate) (5.9.5)\n",
      "Requirement already satisfied: pyyaml in c:\\users\\jia xin\\appdata\\roaming\\python\\python311\\site-packages (from accelerate) (6.0.1)\n",
      "Requirement already satisfied: torch>=1.10.0 in c:\\users\\jia xin\\appdata\\roaming\\python\\python311\\site-packages (from accelerate) (2.0.1+cu118)\n",
      "Requirement already satisfied: huggingface-hub in c:\\users\\jia xin\\appdata\\roaming\\python\\python311\\site-packages (from accelerate) (0.17.2)\n",
      "Requirement already satisfied: antlr4-python3-runtime==4.9.* in c:\\users\\jia xin\\appdata\\roaming\\python\\python311\\site-packages (from omegaconf) (4.9.3)\n",
      "Requirement already satisfied: python-dateutil>=2.8.1 in c:\\users\\jia xin\\appdata\\roaming\\python\\python311\\site-packages (from pandas) (2.8.2)\n",
      "Requirement already satisfied: pytz>=2020.1 in c:\\users\\jia xin\\appdata\\roaming\\python\\python311\\site-packages (from pandas) (2022.7.1)\n",
      "Requirement already satisfied: pillow>=8.3.2 in c:\\users\\jia xin\\appdata\\roaming\\python\\python311\\site-packages (from imageio) (10.0.1)\n",
      "Requirement already satisfied: six>=1.5 in c:\\users\\jia xin\\appdata\\roaming\\python\\python311\\site-packages (from python-dateutil>=2.8.1->pandas) (1.16.0)\n",
      "Requirement already satisfied: filelock in c:\\users\\jia xin\\appdata\\roaming\\python\\python311\\site-packages (from torch>=1.10.0->accelerate) (3.12.4)\n",
      "Requirement already satisfied: typing-extensions in c:\\users\\jia xin\\appdata\\roaming\\python\\python311\\site-packages (from torch>=1.10.0->accelerate) (4.8.0)\n",
      "Requirement already satisfied: sympy in c:\\users\\jia xin\\appdata\\roaming\\python\\python311\\site-packages (from torch>=1.10.0->accelerate) (1.12)\n",
      "Requirement already satisfied: networkx in c:\\users\\jia xin\\appdata\\roaming\\python\\python311\\site-packages (from torch>=1.10.0->accelerate) (3.1)\n",
      "Requirement already satisfied: jinja2 in c:\\users\\jia xin\\appdata\\roaming\\python\\python311\\site-packages (from torch>=1.10.0->accelerate) (3.1.2)\n",
      "Requirement already satisfied: fsspec in c:\\users\\jia xin\\appdata\\roaming\\python\\python311\\site-packages (from huggingface-hub->accelerate) (2023.9.2)\n",
      "Requirement already satisfied: requests in c:\\users\\jia xin\\appdata\\roaming\\python\\python311\\site-packages (from huggingface-hub->accelerate) (2.31.0)\n",
      "Requirement already satisfied: tqdm>=4.42.1 in c:\\users\\jia xin\\appdata\\roaming\\python\\python311\\site-packages (from huggingface-hub->accelerate) (4.66.1)\n",
      "Requirement already satisfied: colorama in c:\\users\\jia xin\\appdata\\roaming\\python\\python311\\site-packages (from tqdm>=4.42.1->huggingface-hub->accelerate) (0.4.6)\n",
      "Requirement already satisfied: MarkupSafe>=2.0 in c:\\users\\jia xin\\appdata\\roaming\\python\\python311\\site-packages (from jinja2->torch>=1.10.0->accelerate) (2.1.3)\n",
      "Requirement already satisfied: charset-normalizer<4,>=2 in c:\\users\\jia xin\\appdata\\roaming\\python\\python311\\site-packages (from requests->huggingface-hub->accelerate) (3.2.0)\n",
      "Requirement already satisfied: idna<4,>=2.5 in c:\\users\\jia xin\\appdata\\roaming\\python\\python311\\site-packages (from requests->huggingface-hub->accelerate) (3.4)\n",
      "Requirement already satisfied: urllib3<3,>=1.21.1 in c:\\users\\jia xin\\appdata\\roaming\\python\\python311\\site-packages (from requests->huggingface-hub->accelerate) (2.0.5)\n",
      "Requirement already satisfied: certifi>=2017.4.17 in c:\\users\\jia xin\\appdata\\roaming\\python\\python311\\site-packages (from requests->huggingface-hub->accelerate) (2023.7.22)\n",
      "Requirement already satisfied: mpmath>=0.19 in c:\\users\\jia xin\\appdata\\roaming\\python\\python311\\site-packages (from sympy->torch>=1.10.0->accelerate) (1.3.0)\n",
      "Defaulting to user installation because normal site-packages is not writeable\n"
     ]
    },
    {
     "name": "stderr",
     "output_type": "stream",
     "text": [
      "ERROR: triton-2.0.0-cp310-cp310-win_amd64.whl is not a supported wheel on this platform.\n"
     ]
    },
    {
     "name": "stdout",
     "output_type": "stream",
     "text": [
      "Defaulting to user installation because normal site-packages is not writeable\n",
      "Requirement already satisfied: diffusers==0.11.1 in c:\\users\\jia xin\\appdata\\roaming\\python\\python311\\site-packages (0.11.1)\n",
      "Requirement already satisfied: transformers==4.26.0 in c:\\users\\jia xin\\appdata\\roaming\\python\\python311\\site-packages (4.26.0)\n",
      "Requirement already satisfied: bitsandbytes==0.35.4 in c:\\users\\jia xin\\appdata\\roaming\\python\\python311\\site-packages (0.35.4)\n",
      "Requirement already satisfied: imageio-ffmpeg in c:\\users\\jia xin\\appdata\\roaming\\python\\python311\\site-packages (0.4.9)\n",
      "Requirement already satisfied: xformers in c:\\users\\jia xin\\appdata\\roaming\\python\\python311\\site-packages (0.0.21)\n",
      "Requirement already satisfied: importlib-metadata in c:\\users\\jia xin\\appdata\\roaming\\python\\python311\\site-packages (from diffusers==0.11.1) (6.8.0)\n",
      "Requirement already satisfied: filelock in c:\\users\\jia xin\\appdata\\roaming\\python\\python311\\site-packages (from diffusers==0.11.1) (3.12.4)\n",
      "Requirement already satisfied: huggingface-hub>=0.10.0 in c:\\users\\jia xin\\appdata\\roaming\\python\\python311\\site-packages (from diffusers==0.11.1) (0.17.2)\n",
      "Requirement already satisfied: numpy in c:\\users\\jia xin\\appdata\\roaming\\python\\python311\\site-packages (from diffusers==0.11.1) (1.23.5)\n",
      "Requirement already satisfied: regex!=2019.12.17 in c:\\users\\jia xin\\appdata\\roaming\\python\\python311\\site-packages (from diffusers==0.11.1) (2023.8.8)\n",
      "Requirement already satisfied: requests in c:\\users\\jia xin\\appdata\\roaming\\python\\python311\\site-packages (from diffusers==0.11.1) (2.31.0)\n",
      "Requirement already satisfied: Pillow in c:\\users\\jia xin\\appdata\\roaming\\python\\python311\\site-packages (from diffusers==0.11.1) (10.0.1)\n",
      "Requirement already satisfied: packaging>=20.0 in c:\\users\\jia xin\\appdata\\roaming\\python\\python311\\site-packages (from transformers==4.26.0) (23.1)\n",
      "Requirement already satisfied: pyyaml>=5.1 in c:\\users\\jia xin\\appdata\\roaming\\python\\python311\\site-packages (from transformers==4.26.0) (6.0.1)\n",
      "Requirement already satisfied: tokenizers!=0.11.3,<0.14,>=0.11.1 in c:\\users\\jia xin\\appdata\\roaming\\python\\python311\\site-packages (from transformers==4.26.0) (0.13.3)\n",
      "Requirement already satisfied: tqdm>=4.27 in c:\\users\\jia xin\\appdata\\roaming\\python\\python311\\site-packages (from transformers==4.26.0) (4.66.1)\n",
      "Requirement already satisfied: setuptools in c:\\users\\jia xin\\appdata\\roaming\\python\\python311\\site-packages (from imageio-ffmpeg) (65.6.3)\n",
      "Requirement already satisfied: torch==2.0.1 in c:\\users\\jia xin\\appdata\\roaming\\python\\python311\\site-packages (from xformers) (2.0.1+cu118)\n",
      "Requirement already satisfied: typing-extensions in c:\\users\\jia xin\\appdata\\roaming\\python\\python311\\site-packages (from torch==2.0.1->xformers) (4.8.0)\n",
      "Requirement already satisfied: sympy in c:\\users\\jia xin\\appdata\\roaming\\python\\python311\\site-packages (from torch==2.0.1->xformers) (1.12)\n",
      "Requirement already satisfied: networkx in c:\\users\\jia xin\\appdata\\roaming\\python\\python311\\site-packages (from torch==2.0.1->xformers) (3.1)\n",
      "Requirement already satisfied: jinja2 in c:\\users\\jia xin\\appdata\\roaming\\python\\python311\\site-packages (from torch==2.0.1->xformers) (3.1.2)\n",
      "Requirement already satisfied: fsspec in c:\\users\\jia xin\\appdata\\roaming\\python\\python311\\site-packages (from huggingface-hub>=0.10.0->diffusers==0.11.1) (2023.9.2)\n",
      "Requirement already satisfied: colorama in c:\\users\\jia xin\\appdata\\roaming\\python\\python311\\site-packages (from tqdm>=4.27->transformers==4.26.0) (0.4.6)\n",
      "Requirement already satisfied: zipp>=0.5 in c:\\users\\jia xin\\appdata\\roaming\\python\\python311\\site-packages (from importlib-metadata->diffusers==0.11.1) (3.17.0)\n",
      "Requirement already satisfied: charset-normalizer<4,>=2 in c:\\users\\jia xin\\appdata\\roaming\\python\\python311\\site-packages (from requests->diffusers==0.11.1) (3.2.0)\n",
      "Requirement already satisfied: idna<4,>=2.5 in c:\\users\\jia xin\\appdata\\roaming\\python\\python311\\site-packages (from requests->diffusers==0.11.1) (3.4)\n",
      "Requirement already satisfied: urllib3<3,>=1.21.1 in c:\\users\\jia xin\\appdata\\roaming\\python\\python311\\site-packages (from requests->diffusers==0.11.1) (2.0.5)\n",
      "Requirement already satisfied: certifi>=2017.4.17 in c:\\users\\jia xin\\appdata\\roaming\\python\\python311\\site-packages (from requests->diffusers==0.11.1) (2023.7.22)\n",
      "Requirement already satisfied: MarkupSafe>=2.0 in c:\\users\\jia xin\\appdata\\roaming\\python\\python311\\site-packages (from jinja2->torch==2.0.1->xformers) (2.1.3)\n",
      "Requirement already satisfied: mpmath>=0.19 in c:\\users\\jia xin\\appdata\\roaming\\python\\python311\\site-packages (from sympy->torch==2.0.1->xformers) (1.3.0)\n",
      "Defaulting to user installation because normal site-packages is not writeable\n",
      "Looking in links: https://download.pytorch.org/whl/cu118/torch_stable.html\n",
      "Requirement already satisfied: torch==2.0.1+cu118 in c:\\users\\jia xin\\appdata\\roaming\\python\\python311\\site-packages (2.0.1+cu118)\n",
      "Requirement already satisfied: torchvision in c:\\users\\jia xin\\appdata\\roaming\\python\\python311\\site-packages (0.15.2+cu118)\n",
      "Requirement already satisfied: filelock in c:\\users\\jia xin\\appdata\\roaming\\python\\python311\\site-packages (from torch==2.0.1+cu118) (3.12.4)\n",
      "Requirement already satisfied: typing-extensions in c:\\users\\jia xin\\appdata\\roaming\\python\\python311\\site-packages (from torch==2.0.1+cu118) (4.8.0)\n",
      "Requirement already satisfied: sympy in c:\\users\\jia xin\\appdata\\roaming\\python\\python311\\site-packages (from torch==2.0.1+cu118) (1.12)\n",
      "Requirement already satisfied: networkx in c:\\users\\jia xin\\appdata\\roaming\\python\\python311\\site-packages (from torch==2.0.1+cu118) (3.1)\n",
      "Requirement already satisfied: jinja2 in c:\\users\\jia xin\\appdata\\roaming\\python\\python311\\site-packages (from torch==2.0.1+cu118) (3.1.2)\n",
      "Requirement already satisfied: numpy in c:\\users\\jia xin\\appdata\\roaming\\python\\python311\\site-packages (from torchvision) (1.23.5)\n",
      "Requirement already satisfied: requests in c:\\users\\jia xin\\appdata\\roaming\\python\\python311\\site-packages (from torchvision) (2.31.0)\n",
      "Requirement already satisfied: pillow!=8.3.*,>=5.3.0 in c:\\users\\jia xin\\appdata\\roaming\\python\\python311\\site-packages (from torchvision) (10.0.1)\n",
      "Requirement already satisfied: MarkupSafe>=2.0 in c:\\users\\jia xin\\appdata\\roaming\\python\\python311\\site-packages (from jinja2->torch==2.0.1+cu118) (2.1.3)\n",
      "Requirement already satisfied: charset-normalizer<4,>=2 in c:\\users\\jia xin\\appdata\\roaming\\python\\python311\\site-packages (from requests->torchvision) (3.2.0)\n",
      "Requirement already satisfied: idna<4,>=2.5 in c:\\users\\jia xin\\appdata\\roaming\\python\\python311\\site-packages (from requests->torchvision) (3.4)\n",
      "Requirement already satisfied: urllib3<3,>=1.21.1 in c:\\users\\jia xin\\appdata\\roaming\\python\\python311\\site-packages (from requests->torchvision) (2.0.5)\n",
      "Requirement already satisfied: certifi>=2017.4.17 in c:\\users\\jia xin\\appdata\\roaming\\python\\python311\\site-packages (from requests->torchvision) (2023.7.22)\n",
      "Requirement already satisfied: mpmath>=0.19 in c:\\users\\jia xin\\appdata\\roaming\\python\\python311\\site-packages (from sympy->torch==2.0.1+cu118) (1.3.0)\n",
      "Requirement already satisfied: ipywidgets in c:\\users\\jia xin\\appdata\\local\\programs\\python\\python310\\lib\\site-packages (8.1.1)\n",
      "Requirement already satisfied: jupyterlab-widgets~=3.0.9 in c:\\users\\jia xin\\appdata\\local\\programs\\python\\python310\\lib\\site-packages (from ipywidgets) (3.0.9)\n",
      "Requirement already satisfied: comm>=0.1.3 in c:\\users\\jia xin\\appdata\\roaming\\python\\python310\\site-packages (from ipywidgets) (0.1.4)\n",
      "Requirement already satisfied: widgetsnbextension~=4.0.9 in c:\\users\\jia xin\\appdata\\local\\programs\\python\\python310\\lib\\site-packages (from ipywidgets) (4.0.9)\n",
      "Requirement already satisfied: ipython>=6.1.0 in c:\\users\\jia xin\\appdata\\roaming\\python\\python310\\site-packages (from ipywidgets) (8.15.0)\n",
      "Requirement already satisfied: traitlets>=4.3.1 in c:\\users\\jia xin\\appdata\\roaming\\python\\python310\\site-packages (from ipywidgets) (5.10.0)\n",
      "Requirement already satisfied: backcall in c:\\users\\jia xin\\appdata\\roaming\\python\\python310\\site-packages (from ipython>=6.1.0->ipywidgets) (0.2.0)\n",
      "Requirement already satisfied: prompt-toolkit!=3.0.37,<3.1.0,>=3.0.30 in c:\\users\\jia xin\\appdata\\roaming\\python\\python310\\site-packages (from ipython>=6.1.0->ipywidgets) (3.0.39)\n",
      "Requirement already satisfied: exceptiongroup in c:\\users\\jia xin\\appdata\\roaming\\python\\python310\\site-packages (from ipython>=6.1.0->ipywidgets) (1.1.3)\n",
      "Requirement already satisfied: matplotlib-inline in c:\\users\\jia xin\\appdata\\roaming\\python\\python310\\site-packages (from ipython>=6.1.0->ipywidgets) (0.1.6)\n",
      "Requirement already satisfied: pygments>=2.4.0 in c:\\users\\jia xin\\appdata\\roaming\\python\\python310\\site-packages (from ipython>=6.1.0->ipywidgets) (2.16.1)\n",
      "Requirement already satisfied: decorator in c:\\users\\jia xin\\appdata\\roaming\\python\\python310\\site-packages (from ipython>=6.1.0->ipywidgets) (5.1.1)\n",
      "Requirement already satisfied: pickleshare in c:\\users\\jia xin\\appdata\\roaming\\python\\python310\\site-packages (from ipython>=6.1.0->ipywidgets) (0.7.5)\n",
      "Requirement already satisfied: jedi>=0.16 in c:\\users\\jia xin\\appdata\\roaming\\python\\python310\\site-packages (from ipython>=6.1.0->ipywidgets) (0.19.0)\n",
      "Requirement already satisfied: colorama in c:\\users\\jia xin\\appdata\\local\\programs\\python\\python310\\lib\\site-packages (from ipython>=6.1.0->ipywidgets) (0.4.5)\n",
      "Requirement already satisfied: stack-data in c:\\users\\jia xin\\appdata\\roaming\\python\\python310\\site-packages (from ipython>=6.1.0->ipywidgets) (0.6.2)\n",
      "Requirement already satisfied: parso<0.9.0,>=0.8.3 in c:\\users\\jia xin\\appdata\\roaming\\python\\python310\\site-packages (from jedi>=0.16->ipython>=6.1.0->ipywidgets) (0.8.3)\n",
      "Requirement already satisfied: wcwidth in c:\\users\\jia xin\\appdata\\roaming\\python\\python310\\site-packages (from prompt-toolkit!=3.0.37,<3.1.0,>=3.0.30->ipython>=6.1.0->ipywidgets) (0.2.6)\n",
      "Requirement already satisfied: asttokens>=2.1.0 in c:\\users\\jia xin\\appdata\\roaming\\python\\python310\\site-packages (from stack-data->ipython>=6.1.0->ipywidgets) (2.4.0)\n",
      "Requirement already satisfied: pure-eval in c:\\users\\jia xin\\appdata\\roaming\\python\\python310\\site-packages (from stack-data->ipython>=6.1.0->ipywidgets) (0.2.2)\n",
      "Requirement already satisfied: executing>=1.2.0 in c:\\users\\jia xin\\appdata\\roaming\\python\\python310\\site-packages (from stack-data->ipython>=6.1.0->ipywidgets) (1.2.0)\n",
      "Requirement already satisfied: six>=1.12.0 in c:\\users\\jia xin\\appdata\\roaming\\python\\python310\\site-packages (from asttokens>=2.1.0->stack-data->ipython>=6.1.0->ipywidgets) (1.16.0)\n",
      "Note: you may need to restart the kernel to use updated packages.\n"
     ]
    },
    {
     "name": "stderr",
     "output_type": "stream",
     "text": [
      "WARNING: You are using pip version 21.2.3; however, version 23.2.1 is available.\n",
      "You should consider upgrading via the 'c:\\Users\\Jia Xin\\AppData\\Local\\Programs\\Python\\Python310\\python.exe -m pip install --upgrade pip' command.\n"
     ]
    },
    {
     "name": "stdout",
     "output_type": "stream",
     "text": [
      "Defaulting to user installation because normal site-packages is not writeable\n",
      "Requirement already satisfied: anyio==4.0.0 in c:\\users\\jia xin\\appdata\\roaming\\python\\python311\\site-packages (from -r requirements.txt (line 1)) (4.0.0)\n",
      "Requirement already satisfied: appnope==0.1.3 in c:\\users\\jia xin\\appdata\\roaming\\python\\python311\\site-packages (from -r requirements.txt (line 2)) (0.1.3)\n",
      "Requirement already satisfied: argon2-cffi==23.1.0 in c:\\users\\jia xin\\appdata\\roaming\\python\\python311\\site-packages (from -r requirements.txt (line 3)) (23.1.0)\n",
      "Requirement already satisfied: argon2-cffi-bindings==21.2.0 in c:\\users\\jia xin\\appdata\\roaming\\python\\python311\\site-packages (from -r requirements.txt (line 4)) (21.2.0)\n",
      "Requirement already satisfied: arrow==1.2.3 in c:\\users\\jia xin\\appdata\\roaming\\python\\python311\\site-packages (from -r requirements.txt (line 5)) (1.2.3)\n",
      "Requirement already satisfied: asttokens==2.4.0 in c:\\users\\jia xin\\appdata\\roaming\\python\\python311\\site-packages (from -r requirements.txt (line 6)) (2.4.0)\n",
      "Requirement already satisfied: async-lru==2.0.4 in c:\\users\\jia xin\\appdata\\roaming\\python\\python311\\site-packages (from -r requirements.txt (line 7)) (2.0.4)\n",
      "Requirement already satisfied: attrs==23.1.0 in c:\\users\\jia xin\\appdata\\roaming\\python\\python311\\site-packages (from -r requirements.txt (line 8)) (23.1.0)\n",
      "Requirement already satisfied: Babel==2.12.1 in c:\\users\\jia xin\\appdata\\roaming\\python\\python311\\site-packages (from -r requirements.txt (line 9)) (2.12.1)\n",
      "Requirement already satisfied: backcall==0.2.0 in c:\\users\\jia xin\\appdata\\roaming\\python\\python311\\site-packages (from -r requirements.txt (line 10)) (0.2.0)\n",
      "Requirement already satisfied: beautifulsoup4==4.12.2 in c:\\users\\jia xin\\appdata\\roaming\\python\\python311\\site-packages (from -r requirements.txt (line 11)) (4.12.2)\n",
      "Requirement already satisfied: bleach==6.0.0 in c:\\users\\jia xin\\appdata\\roaming\\python\\python311\\site-packages (from -r requirements.txt (line 12)) (6.0.0)\n",
      "Requirement already satisfied: certifi==2023.7.22 in c:\\users\\jia xin\\appdata\\roaming\\python\\python311\\site-packages (from -r requirements.txt (line 13)) (2023.7.22)\n",
      "Requirement already satisfied: cffi==1.15.1 in c:\\users\\jia xin\\appdata\\roaming\\python\\python311\\site-packages (from -r requirements.txt (line 14)) (1.15.1)\n",
      "Requirement already satisfied: charset-normalizer==3.2.0 in c:\\users\\jia xin\\appdata\\roaming\\python\\python311\\site-packages (from -r requirements.txt (line 15)) (3.2.0)\n",
      "Requirement already satisfied: comm==0.1.4 in c:\\users\\jia xin\\appdata\\roaming\\python\\python311\\site-packages (from -r requirements.txt (line 16)) (0.1.4)\n",
      "Requirement already satisfied: debugpy==1.8.0 in c:\\users\\jia xin\\appdata\\roaming\\python\\python311\\site-packages (from -r requirements.txt (line 17)) (1.8.0)\n",
      "Requirement already satisfied: decorator==5.1.1 in c:\\users\\jia xin\\appdata\\roaming\\python\\python311\\site-packages (from -r requirements.txt (line 18)) (5.1.1)\n",
      "Requirement already satisfied: defusedxml==0.7.1 in c:\\users\\jia xin\\appdata\\roaming\\python\\python311\\site-packages (from -r requirements.txt (line 19)) (0.7.1)\n",
      "Requirement already satisfied: executing==1.2.0 in c:\\users\\jia xin\\appdata\\roaming\\python\\python311\\site-packages (from -r requirements.txt (line 20)) (1.2.0)\n",
      "Requirement already satisfied: fastjsonschema==2.18.0 in c:\\users\\jia xin\\appdata\\roaming\\python\\python311\\site-packages (from -r requirements.txt (line 21)) (2.18.0)\n",
      "Requirement already satisfied: fqdn==1.5.1 in c:\\users\\jia xin\\appdata\\roaming\\python\\python311\\site-packages (from -r requirements.txt (line 22)) (1.5.1)\n",
      "Requirement already satisfied: idna==3.4 in c:\\users\\jia xin\\appdata\\roaming\\python\\python311\\site-packages (from -r requirements.txt (line 23)) (3.4)\n",
      "Requirement already satisfied: ipykernel==6.25.2 in c:\\users\\jia xin\\appdata\\roaming\\python\\python311\\site-packages (from -r requirements.txt (line 24)) (6.25.2)\n",
      "Requirement already satisfied: ipython==8.15.0 in c:\\users\\jia xin\\appdata\\roaming\\python\\python311\\site-packages (from -r requirements.txt (line 25)) (8.15.0)\n",
      "Requirement already satisfied: ipython-genutils==0.2.0 in c:\\users\\jia xin\\appdata\\roaming\\python\\python311\\site-packages (from -r requirements.txt (line 26)) (0.2.0)\n",
      "Requirement already satisfied: ipywidgets==8.1.1 in c:\\users\\jia xin\\appdata\\roaming\\python\\python311\\site-packages (from -r requirements.txt (line 27)) (8.1.1)\n",
      "Requirement already satisfied: isoduration==20.11.0 in c:\\users\\jia xin\\appdata\\roaming\\python\\python311\\site-packages (from -r requirements.txt (line 28)) (20.11.0)\n",
      "Requirement already satisfied: jedi==0.19.0 in c:\\users\\jia xin\\appdata\\roaming\\python\\python311\\site-packages (from -r requirements.txt (line 29)) (0.19.0)\n",
      "Requirement already satisfied: Jinja2==3.1.2 in c:\\users\\jia xin\\appdata\\roaming\\python\\python311\\site-packages (from -r requirements.txt (line 30)) (3.1.2)\n",
      "Requirement already satisfied: json5==0.9.14 in c:\\users\\jia xin\\appdata\\roaming\\python\\python311\\site-packages (from -r requirements.txt (line 31)) (0.9.14)\n",
      "Requirement already satisfied: jsonpointer==2.4 in c:\\users\\jia xin\\appdata\\roaming\\python\\python311\\site-packages (from -r requirements.txt (line 32)) (2.4)\n",
      "Requirement already satisfied: jsonschema==4.19.1 in c:\\users\\jia xin\\appdata\\roaming\\python\\python311\\site-packages (from -r requirements.txt (line 33)) (4.19.1)\n",
      "Requirement already satisfied: jsonschema-specifications==2023.7.1 in c:\\users\\jia xin\\appdata\\roaming\\python\\python311\\site-packages (from -r requirements.txt (line 34)) (2023.7.1)\n",
      "Requirement already satisfied: jupyter==1.0.0 in c:\\users\\jia xin\\appdata\\roaming\\python\\python311\\site-packages (from -r requirements.txt (line 35)) (1.0.0)\n",
      "Requirement already satisfied: jupyter-console==6.6.3 in c:\\users\\jia xin\\appdata\\roaming\\python\\python311\\site-packages (from -r requirements.txt (line 36)) (6.6.3)\n",
      "Requirement already satisfied: jupyter-events==0.7.0 in c:\\users\\jia xin\\appdata\\roaming\\python\\python311\\site-packages (from -r requirements.txt (line 37)) (0.7.0)\n",
      "Requirement already satisfied: jupyter-lsp==2.2.0 in c:\\users\\jia xin\\appdata\\roaming\\python\\python311\\site-packages (from -r requirements.txt (line 38)) (2.2.0)\n",
      "Requirement already satisfied: jupyter_client==8.3.1 in c:\\users\\jia xin\\appdata\\roaming\\python\\python311\\site-packages (from -r requirements.txt (line 39)) (8.3.1)\n",
      "Requirement already satisfied: jupyter_core==5.3.1 in c:\\users\\jia xin\\appdata\\roaming\\python\\python311\\site-packages (from -r requirements.txt (line 40)) (5.3.1)\n",
      "Requirement already satisfied: jupyter_server==2.7.3 in c:\\users\\jia xin\\appdata\\roaming\\python\\python311\\site-packages (from -r requirements.txt (line 41)) (2.7.3)\n",
      "Requirement already satisfied: jupyter_server_terminals==0.4.4 in c:\\users\\jia xin\\appdata\\roaming\\python\\python311\\site-packages (from -r requirements.txt (line 42)) (0.4.4)\n",
      "Requirement already satisfied: jupyterlab==4.0.6 in c:\\users\\jia xin\\appdata\\roaming\\python\\python311\\site-packages (from -r requirements.txt (line 43)) (4.0.6)\n",
      "Requirement already satisfied: jupyterlab-pygments==0.2.2 in c:\\users\\jia xin\\appdata\\roaming\\python\\python311\\site-packages (from -r requirements.txt (line 44)) (0.2.2)\n",
      "Requirement already satisfied: jupyterlab-widgets==3.0.9 in c:\\users\\jia xin\\appdata\\roaming\\python\\python311\\site-packages (from -r requirements.txt (line 45)) (3.0.9)\n",
      "Requirement already satisfied: jupyterlab_server==2.25.0 in c:\\users\\jia xin\\appdata\\roaming\\python\\python311\\site-packages (from -r requirements.txt (line 46)) (2.25.0)\n",
      "Requirement already satisfied: MarkupSafe==2.1.3 in c:\\users\\jia xin\\appdata\\roaming\\python\\python311\\site-packages (from -r requirements.txt (line 47)) (2.1.3)\n",
      "Requirement already satisfied: matplotlib-inline==0.1.6 in c:\\users\\jia xin\\appdata\\roaming\\python\\python311\\site-packages (from -r requirements.txt (line 48)) (0.1.6)\n",
      "Requirement already satisfied: mistune==3.0.1 in c:\\users\\jia xin\\appdata\\roaming\\python\\python311\\site-packages (from -r requirements.txt (line 49)) (3.0.1)\n",
      "Requirement already satisfied: nbclient==0.8.0 in c:\\users\\jia xin\\appdata\\roaming\\python\\python311\\site-packages (from -r requirements.txt (line 50)) (0.8.0)\n",
      "Requirement already satisfied: nbconvert==7.8.0 in c:\\users\\jia xin\\appdata\\roaming\\python\\python311\\site-packages (from -r requirements.txt (line 51)) (7.8.0)\n",
      "Requirement already satisfied: nbformat==5.9.2 in c:\\users\\jia xin\\appdata\\roaming\\python\\python311\\site-packages (from -r requirements.txt (line 52)) (5.9.2)\n",
      "Requirement already satisfied: nest-asyncio==1.5.8 in c:\\users\\jia xin\\appdata\\roaming\\python\\python311\\site-packages (from -r requirements.txt (line 53)) (1.5.8)\n",
      "Requirement already satisfied: notebook==7.0.4 in c:\\users\\jia xin\\appdata\\roaming\\python\\python311\\site-packages (from -r requirements.txt (line 54)) (7.0.4)\n",
      "Requirement already satisfied: notebook_shim==0.2.3 in c:\\users\\jia xin\\appdata\\roaming\\python\\python311\\site-packages (from -r requirements.txt (line 55)) (0.2.3)\n",
      "Requirement already satisfied: overrides==7.4.0 in c:\\users\\jia xin\\appdata\\roaming\\python\\python311\\site-packages (from -r requirements.txt (line 56)) (7.4.0)\n",
      "Requirement already satisfied: packaging==23.1 in c:\\users\\jia xin\\appdata\\roaming\\python\\python311\\site-packages (from -r requirements.txt (line 57)) (23.1)\n",
      "Requirement already satisfied: pandocfilters==1.5.0 in c:\\users\\jia xin\\appdata\\roaming\\python\\python311\\site-packages (from -r requirements.txt (line 58)) (1.5.0)\n",
      "Requirement already satisfied: parso==0.8.3 in c:\\users\\jia xin\\appdata\\roaming\\python\\python311\\site-packages (from -r requirements.txt (line 59)) (0.8.3)\n",
      "Requirement already satisfied: pexpect==4.8.0 in c:\\users\\jia xin\\appdata\\roaming\\python\\python311\\site-packages (from -r requirements.txt (line 60)) (4.8.0)\n",
      "Requirement already satisfied: pickleshare==0.7.5 in c:\\users\\jia xin\\appdata\\roaming\\python\\python311\\site-packages (from -r requirements.txt (line 61)) (0.7.5)\n",
      "Requirement already satisfied: platformdirs==3.10.0 in c:\\users\\jia xin\\appdata\\roaming\\python\\python311\\site-packages (from -r requirements.txt (line 62)) (3.10.0)\n",
      "Requirement already satisfied: prometheus-client==0.17.1 in c:\\users\\jia xin\\appdata\\roaming\\python\\python311\\site-packages (from -r requirements.txt (line 63)) (0.17.1)\n",
      "Requirement already satisfied: prompt-toolkit==3.0.39 in c:\\users\\jia xin\\appdata\\roaming\\python\\python311\\site-packages (from -r requirements.txt (line 64)) (3.0.39)\n",
      "Requirement already satisfied: psutil==5.9.5 in c:\\users\\jia xin\\appdata\\roaming\\python\\python311\\site-packages (from -r requirements.txt (line 65)) (5.9.5)\n",
      "Requirement already satisfied: ptyprocess==0.7.0 in c:\\users\\jia xin\\appdata\\roaming\\python\\python311\\site-packages (from -r requirements.txt (line 66)) (0.7.0)\n",
      "Requirement already satisfied: pure-eval==0.2.2 in c:\\users\\jia xin\\appdata\\roaming\\python\\python311\\site-packages (from -r requirements.txt (line 67)) (0.2.2)\n",
      "Requirement already satisfied: pycparser==2.21 in c:\\users\\jia xin\\appdata\\roaming\\python\\python311\\site-packages (from -r requirements.txt (line 68)) (2.21)\n",
      "Requirement already satisfied: Pygments==2.16.1 in c:\\users\\jia xin\\appdata\\roaming\\python\\python311\\site-packages (from -r requirements.txt (line 69)) (2.16.1)\n",
      "Requirement already satisfied: python-dateutil==2.8.2 in c:\\users\\jia xin\\appdata\\roaming\\python\\python311\\site-packages (from -r requirements.txt (line 70)) (2.8.2)\n",
      "Requirement already satisfied: python-json-logger==2.0.7 in c:\\users\\jia xin\\appdata\\roaming\\python\\python311\\site-packages (from -r requirements.txt (line 71)) (2.0.7)\n",
      "Requirement already satisfied: PyYAML==6.0.1 in c:\\users\\jia xin\\appdata\\roaming\\python\\python311\\site-packages (from -r requirements.txt (line 72)) (6.0.1)\n",
      "Requirement already satisfied: pyzmq==25.1.1 in c:\\users\\jia xin\\appdata\\roaming\\python\\python311\\site-packages (from -r requirements.txt (line 73)) (25.1.1)\n",
      "Requirement already satisfied: qtconsole==5.4.4 in c:\\users\\jia xin\\appdata\\roaming\\python\\python311\\site-packages (from -r requirements.txt (line 74)) (5.4.4)\n",
      "Requirement already satisfied: QtPy==2.4.0 in c:\\users\\jia xin\\appdata\\roaming\\python\\python311\\site-packages (from -r requirements.txt (line 75)) (2.4.0)\n",
      "Requirement already satisfied: referencing==0.30.2 in c:\\users\\jia xin\\appdata\\roaming\\python\\python311\\site-packages (from -r requirements.txt (line 76)) (0.30.2)\n",
      "Requirement already satisfied: requests==2.31.0 in c:\\users\\jia xin\\appdata\\roaming\\python\\python311\\site-packages (from -r requirements.txt (line 77)) (2.31.0)\n",
      "Requirement already satisfied: rfc3339-validator==0.1.4 in c:\\users\\jia xin\\appdata\\roaming\\python\\python311\\site-packages (from -r requirements.txt (line 78)) (0.1.4)\n",
      "Requirement already satisfied: rfc3986-validator==0.1.1 in c:\\users\\jia xin\\appdata\\roaming\\python\\python311\\site-packages (from -r requirements.txt (line 79)) (0.1.1)\n",
      "Requirement already satisfied: rpds-py==0.10.3 in c:\\users\\jia xin\\appdata\\roaming\\python\\python311\\site-packages (from -r requirements.txt (line 80)) (0.10.3)\n",
      "Requirement already satisfied: Send2Trash==1.8.2 in c:\\users\\jia xin\\appdata\\roaming\\python\\python311\\site-packages (from -r requirements.txt (line 81)) (1.8.2)\n",
      "Requirement already satisfied: six==1.16.0 in c:\\users\\jia xin\\appdata\\roaming\\python\\python311\\site-packages (from -r requirements.txt (line 82)) (1.16.0)\n",
      "Requirement already satisfied: sniffio==1.3.0 in c:\\users\\jia xin\\appdata\\roaming\\python\\python311\\site-packages (from -r requirements.txt (line 83)) (1.3.0)\n",
      "Requirement already satisfied: soupsieve==2.5 in c:\\users\\jia xin\\appdata\\roaming\\python\\python311\\site-packages (from -r requirements.txt (line 84)) (2.5)\n",
      "Requirement already satisfied: stack-data==0.6.2 in c:\\users\\jia xin\\appdata\\roaming\\python\\python311\\site-packages (from -r requirements.txt (line 85)) (0.6.2)\n",
      "Requirement already satisfied: terminado==0.17.1 in c:\\users\\jia xin\\appdata\\roaming\\python\\python311\\site-packages (from -r requirements.txt (line 86)) (0.17.1)\n",
      "Requirement already satisfied: tinycss2==1.2.1 in c:\\users\\jia xin\\appdata\\roaming\\python\\python311\\site-packages (from -r requirements.txt (line 87)) (1.2.1)\n",
      "Requirement already satisfied: tornado==6.3.3 in c:\\users\\jia xin\\appdata\\roaming\\python\\python311\\site-packages (from -r requirements.txt (line 88)) (6.3.3)\n",
      "Requirement already satisfied: traitlets==5.10.0 in c:\\users\\jia xin\\appdata\\roaming\\python\\python311\\site-packages (from -r requirements.txt (line 89)) (5.10.0)\n",
      "Requirement already satisfied: uri-template==1.3.0 in c:\\users\\jia xin\\appdata\\roaming\\python\\python311\\site-packages (from -r requirements.txt (line 90)) (1.3.0)\n",
      "Requirement already satisfied: urllib3==2.0.5 in c:\\users\\jia xin\\appdata\\roaming\\python\\python311\\site-packages (from -r requirements.txt (line 91)) (2.0.5)\n",
      "Requirement already satisfied: wcwidth==0.2.6 in c:\\users\\jia xin\\appdata\\roaming\\python\\python311\\site-packages (from -r requirements.txt (line 92)) (0.2.6)\n",
      "Requirement already satisfied: webcolors==1.13 in c:\\users\\jia xin\\appdata\\roaming\\python\\python311\\site-packages (from -r requirements.txt (line 93)) (1.13)\n",
      "Requirement already satisfied: webencodings==0.5.1 in c:\\users\\jia xin\\appdata\\roaming\\python\\python311\\site-packages (from -r requirements.txt (line 94)) (0.5.1)\n",
      "Requirement already satisfied: websocket-client==1.6.3 in c:\\users\\jia xin\\appdata\\roaming\\python\\python311\\site-packages (from -r requirements.txt (line 95)) (1.6.3)\n",
      "Requirement already satisfied: widgetsnbextension==4.0.9 in c:\\users\\jia xin\\appdata\\roaming\\python\\python311\\site-packages (from -r requirements.txt (line 96)) (4.0.9)\n",
      "Requirement already satisfied: colorama in c:\\users\\jia xin\\appdata\\roaming\\python\\python311\\site-packages (from ipython==8.15.0->-r requirements.txt (line 25)) (0.4.6)\n",
      "Requirement already satisfied: pywin32>=300 in c:\\users\\jia xin\\appdata\\roaming\\python\\python311\\site-packages (from jupyter_core==5.3.1->-r requirements.txt (line 40)) (306)\n",
      "Requirement already satisfied: pywinpty in c:\\users\\jia xin\\appdata\\roaming\\python\\python311\\site-packages (from jupyter_server==2.7.3->-r requirements.txt (line 41)) (2.0.11)\n"
     ]
    }
   ],
   "source": [
    "# Install dependencies in the virtual environment (WINDOWS ONLY)\n",
    "!pip install accelerate omegaconf einops av decord pandas opencv-python opencv-python-headless imageio\n",
    "\n",
    "!pip install  https://huggingface.co/r4ziel/xformers_pre_built/resolve/main/triton-2.0.0-cp310-cp310-win_amd64.whl\n",
    "\n",
    "!pip install diffusers==0.11.1 transformers==4.26.0 bitsandbytes==0.35.4 imageio-ffmpeg xformers\n",
    "\n",
    "!pip install torch==2.0.1+cu118 torchvision -f https://download.pytorch.org/whl/cu118/torch_stable.html\n",
    "\n",
    "%pip install ipywidgets\n",
    "\n",
    "!pip install -r requirements.txt"
   ]
  },
  {
   "cell_type": "code",
   "execution_count": 10,
   "id": "32321303",
   "metadata": {},
   "outputs": [
    {
     "name": "stdout",
     "output_type": "stream",
     "text": [
      "c:\\Users\\Jia Xin\\Desktop\\School Files_Year3\\ICT3104\\Proj_Repo\\FollowYourPose_V1\n"
     ]
    }
   ],
   "source": [
    "import os\n",
    "\n",
    "# Change directory to FollowYourPose\n",
    "os.chdir('./FollowYourPose_V1')\n",
    "\n",
    "# List Current Directory\n",
    "print(os.getcwd())"
   ]
  },
  {
   "cell_type": "code",
   "execution_count": 11,
   "id": "16b87e16",
   "metadata": {},
   "outputs": [
    {
     "name": "stdout",
     "output_type": "stream",
     "text": [
      "Updated Git hooks.\n",
      "Git LFS initialized.\n"
     ]
    },
    {
     "name": "stderr",
     "output_type": "stream",
     "text": [
      "Cloning into 'FollowYourPose_v1'...\n",
      "Updating files:  15% (4/26)\n",
      "Updating files:  19% (5/26)\n",
      "Updating files:  23% (6/26)\n",
      "Updating files:  26% (7/26)\n",
      "Updating files:  30% (8/26)\n",
      "Updating files:  34% (9/26)\n",
      "Updating files:  38% (10/26)\n",
      "Updating files:  42% (11/26)\n",
      "Updating files:  46% (12/26)\n",
      "Updating files:  50% (13/26)\n",
      "Updating files:  53% (14/26)\n",
      "Updating files:  57% (15/26)\n",
      "Updating files:  61% (16/26)\n",
      "Updating files:  65% (17/26)\n",
      "Updating files:  69% (18/26)\n",
      "Updating files:  73% (19/26)\n",
      "Updating files:  76% (20/26)\n",
      "Updating files:  80% (21/26)\n",
      "Updating files:  84% (22/26)\n",
      "Updating files:  88% (23/26)\n",
      "Updating files:  92% (24/26)\n",
      "Updating files:  96% (25/26)\n",
      "Updating files: 100% (26/26)\n",
      "Updating files: 100% (26/26), done.\n",
      "Filtering content:  22% (2/9)\n",
      "Filtering content:  33% (3/9), 21.77 KiB | 0 bytes/s\n",
      "Filtering content:  33% (3/9), 319.22 MiB | 5.29 MiB/s\n",
      "Filtering content:  44% (4/9), 319.22 MiB | 5.29 MiB/s\n",
      "Filtering content:  44% (4/9), 614.37 MiB | 9.83 MiB/s\n",
      "Filtering content:  55% (5/9), 614.37 MiB | 9.83 MiB/s\n",
      "Filtering content:  55% (5/9), 1.05 GiB | 13.41 MiB/s \n",
      "Filtering content:  66% (6/9), 1.05 GiB | 13.41 MiB/s\n",
      "Filtering content:  66% (6/9), 1.70 GiB | 16.65 MiB/s\n",
      "Filtering content:  77% (7/9), 1.70 GiB | 16.65 MiB/s\n",
      "Filtering content:  77% (7/9), 2.83 GiB | 20.25 MiB/s\n",
      "Filtering content:  88% (8/9), 2.83 GiB | 20.25 MiB/s\n",
      "Filtering content:  88% (8/9), 6.03 GiB | 5.84 MiB/s \n",
      "Filtering content: 100% (9/9), 6.03 GiB | 5.84 MiB/s\n",
      "Filtering content: 100% (9/9), 9.75 GiB | 4.16 MiB/s\n",
      "Filtering content: 100% (9/9), 9.75 GiB | 22.88 MiB/s, done.\n"
     ]
    }
   ],
   "source": [
    "import shutil\n",
    "\n",
    "os.makedirs(\"checkpoints\", exist_ok=True)\n",
    "!git lfs install\n",
    "!git clone https://huggingface.co/YueMafighting/FollowYourPose_v1\n",
    "\n",
    "source_dir = 'FollowYourPose_v1'\n",
    "dest_dir = 'checkpoints'\n",
    "\n",
    "for filename in os.listdir(source_dir):\n",
    "    source_path = os.path.join(source_dir, filename)\n",
    "    dest_path = os.path.join(dest_dir, filename)\n",
    "    shutil.move(source_path, dest_path)\n",
    "\n",
    "os.rmdir(source_dir)"
   ]
  },
  {
   "attachments": {},
   "cell_type": "markdown",
   "id": "829aa3d5",
   "metadata": {},
   "source": [
    "## Data Exploration Section"
   ]
  },
  {
   "cell_type": "code",
   "execution_count": 12,
   "id": "3458814e",
   "metadata": {},
   "outputs": [
    {
     "data": {
      "application/vnd.jupyter.widget-view+json": {
       "model_id": "02bf35125ed146518ff498aff4113636",
       "version_major": 2,
       "version_minor": 0
      },
      "text/plain": [
       "VBox(children=(Dropdown(description='Select Video:', options=('Charades_01.mp4', 'Charades_02.mp4', 'Charades_…"
      ]
     },
     "metadata": {},
     "output_type": "display_data"
    }
   ],
   "source": [
    "import os\n",
    "import ipywidgets as widgets\n",
    "from IPython.display import display, HTML, clear_output, Video\n",
    "\n",
    "# Function to display the selected video\n",
    "def display_video(video_name):\n",
    "    clear_output(wait=True)  # Clear previous output, but retain the dropdown\n",
    "    video_path = os.path.join(folder_path, video_name)\n",
    "    # Use IPython's Video to display the video\n",
    "    display(Video(video_path, embed=True))\n",
    "\n",
    "# Path to the folder containing your videos\n",
    "folder_path = '../Data/CharadesVideos/' \n",
    "\n",
    "# List all video files in the folder\n",
    "video_files = [f for f in os.listdir(folder_path) if f.endswith(('.mp4', '.avi', '.mov', 'MOV'))]  # Add other video formats if needed\n",
    "\n",
    "# Create a dropdown widget for video selection\n",
    "dropdown = widgets.Dropdown(\n",
    "    options=video_files,\n",
    "    description='Select Video:',\n",
    "    disabled=False,\n",
    ")\n",
    "\n",
    "# Output area to display the video\n",
    "output_area = widgets.Output()\n",
    "\n",
    "# Display the dropdown and set up its event\n",
    "def on_dropdown_change(change):\n",
    "    if change['type'] == 'change' and change['name'] == 'value':\n",
    "        with output_area:\n",
    "            display_video(change['new'])\n",
    "\n",
    "dropdown.observe(on_dropdown_change)\n",
    "display(widgets.VBox([dropdown, output_area]))  # Display the dropdown and output area in a VBox\n"
   ]
  },
  {
   "attachments": {},
   "cell_type": "markdown",
   "id": "953290a2",
   "metadata": {},
   "source": [
    "## MM Pose Section"
   ]
  },
  {
   "cell_type": "code",
   "execution_count": 13,
   "id": "6f0036ef",
   "metadata": {},
   "outputs": [],
   "source": [
    "# To convert the video to framees (Skeleton)"
   ]
  },
  {
   "attachments": {},
   "cell_type": "markdown",
   "id": "1b68e623",
   "metadata": {},
   "source": [
    "## Inference Section (Dont run yet if your com dont have a good GPU CFM CRASH)"
   ]
  },
  {
   "cell_type": "code",
   "execution_count": 14,
   "id": "827108fa",
   "metadata": {},
   "outputs": [],
   "source": [
    "# Modify/Generate the config file\n",
    "\n",
    "# Choose input video (skeleton_path) \n",
    "\n",
    "# Command to run the program\n",
    "# !python txt2video.py --config=\"configs/pose_sample.yaml\" --skeleton_path=\"./pose_example/vis_ikun_pose2.mov\"\n",
    "\n",
    "#Preview the generated output\n"
   ]
  },
  {
   "attachments": {},
   "cell_type": "markdown",
   "id": "1ae3c9f6",
   "metadata": {},
   "source": [
    "## Training Section"
   ]
  },
  {
   "cell_type": "code",
   "execution_count": 15,
   "id": "09cce9bc",
   "metadata": {},
   "outputs": [
    {
     "data": {
      "application/vnd.jupyter.widget-view+json": {
       "model_id": "e03d3a91525149e7b9f6ed77f1145c32",
       "version_major": 2,
       "version_minor": 0
      },
      "text/plain": [
       "FileUpload(value=(), description='Upload')"
      ]
     },
     "metadata": {},
     "output_type": "display_data"
    },
    {
     "data": {
      "application/vnd.jupyter.widget-view+json": {
       "model_id": "8361ea41199d47c89085248ab7dc646c",
       "version_major": 2,
       "version_minor": 0
      },
      "text/plain": [
       "Button(description='Confirm Upload', style=ButtonStyle())"
      ]
     },
     "metadata": {},
     "output_type": "display_data"
    },
    {
     "data": {
      "application/vnd.jupyter.widget-view+json": {
       "model_id": "03a777317fcf43b693707b1ec0e2fed0",
       "version_major": 2,
       "version_minor": 0
      },
      "text/plain": [
       "Button(description='Clear Widget State', style=ButtonStyle())"
      ]
     },
     "metadata": {},
     "output_type": "display_data"
    },
    {
     "data": {
      "application/vnd.jupyter.widget-view+json": {
       "model_id": "e218db2d278f41f89fd65a4facb6ff14",
       "version_major": 2,
       "version_minor": 0
      },
      "text/plain": [
       "Label(value='')"
      ]
     },
     "metadata": {},
     "output_type": "display_data"
    }
   ],
   "source": [
    "import ipywidgets as widgets\n",
    "from IPython.display import display, clear_output\n",
    "\n",
    "# Function to handle file selection and display the file name\n",
    "def browse_folder(change):\n",
    "    if file_upload.value: # Check if a file has been selected\n",
    "        uploaded_file = file_upload.value[0]  # Get the selected file object\n",
    "        file_name_label.value = f\"Selected File: {uploaded_file['name']}\"\n",
    "    else:\n",
    "        file_name_label.value = \"No file selected. Please upload.\"\n",
    "\n",
    "# Function to clear the widget's state\n",
    "def clear_widget_state(b):\n",
    "    file_upload.value.clear()  # Clear the widget's value\n",
    "    file_name_label.value = \"\"\n",
    "\n",
    "# Create a FileUpload widget for selecting a file\n",
    "file_upload = widgets.FileUpload(\n",
    "    accept='',  # Accept any file type\n",
    "    multiple=False,  # Allow only a single file to be uploaded\n",
    ")\n",
    "\n",
    "file_name_label = widgets.Label(value=\"\")\n",
    "\n",
    "# Observe the 'value' attribute of the file_upload widget for changes\n",
    "file_upload.observe(browse_folder, names='value')\n",
    "\n",
    "# Create a confirmation button to process the uploaded file\n",
    "confirm_button = widgets.Button(description=\"Confirm Upload\")\n",
    "confirm_button.on_click(browse_folder)\n",
    "\n",
    "\n",
    "# Create a clear button to clear the widget's state\n",
    "clear_button = widgets.Button(description=\"Clear Widget State\")\n",
    "clear_button.on_click(clear_widget_state)\n",
    "\n",
    "# Display the widgets and clear button\n",
    "display(file_upload, confirm_button, clear_button, file_name_label)\n"
   ]
  },
  {
   "attachments": {},
   "cell_type": "markdown",
   "id": "257e507f",
   "metadata": {},
   "source": [
    "## Testing Section"
   ]
  },
  {
   "cell_type": "code",
   "execution_count": 19,
   "id": "53e09ce1",
   "metadata": {},
   "outputs": [
    {
     "data": {
      "application/vnd.jupyter.widget-view+json": {
       "model_id": "b072e2be8b3144b8837af52bcdd24055",
       "version_major": 2,
       "version_minor": 0
      },
      "text/plain": [
       "FileUpload(value=(), description='Select a folder', layout=Layout(width='50%'))"
      ]
     },
     "metadata": {},
     "output_type": "display_data"
    },
    {
     "data": {
      "application/vnd.jupyter.widget-view+json": {
       "model_id": "cdbe6811953e43fead0961958920f1b1",
       "version_major": 2,
       "version_minor": 0
      },
      "text/plain": [
       "Button(description='Confirm Selection', style=ButtonStyle())"
      ]
     },
     "metadata": {},
     "output_type": "display_data"
    },
    {
     "data": {
      "application/vnd.jupyter.widget-view+json": {
       "model_id": "2cddd5d410f7498b874be3ec18fc0ace",
       "version_major": 2,
       "version_minor": 0
      },
      "text/plain": [
       "Button(description='Clear Widget State', style=ButtonStyle())"
      ]
     },
     "metadata": {},
     "output_type": "display_data"
    },
    {
     "data": {
      "application/vnd.jupyter.widget-view+json": {
       "model_id": "6ab8c38a11474b0786a5dc7739e1a12d",
       "version_major": 2,
       "version_minor": 0
      },
      "text/plain": [
       "Label(value='')"
      ]
     },
     "metadata": {},
     "output_type": "display_data"
    }
   ],
   "source": [
    "import ipywidgets as widgets\n",
    "from IPython.display import display, clear_output\n",
    "\n",
    "# Function to handle folder selection and display the selected folder\n",
    "def browse_folder(change):\n",
    "    if folder_select.value:  # Check if a folder has been selected\n",
    "        selected_folder = folder_select.value  # Get the selected folder\n",
    "        folder_name_label.value = f\"Selected Folder: {selected_folder}\"\n",
    "    else:\n",
    "        folder_name_label.value = \"No folder selected. Please choose a folder.\"\n",
    "\n",
    "# Function to clear the widget's state\n",
    "def clear_widget_state(b):\n",
    "    folder_select.value = \"\"  # Clear the folder selection\n",
    "    folder_name_label.value = \"\"\n",
    "\n",
    "# Create a Directory widget for selecting a folder\n",
    "folder_select = widgets.FileUpload(\n",
    "    description='Select a folder',\n",
    "    layout=widgets.Layout(width='50%')\n",
    ")\n",
    "\n",
    "folder_name_label = widgets.Label(value=\"\")\n",
    "\n",
    "# Observe the 'value' attribute of the folder_select widget for changes\n",
    "folder_select.observe(browse_folder, names='value')\n",
    "\n",
    "# Create a confirmation button to process the selected folder\n",
    "confirm_button = widgets.Button(description=\"Confirm Selection\")\n",
    "confirm_button.on_click(browse_folder)\n",
    "\n",
    "# Create a clear button to clear the widget's state\n",
    "clear_button = widgets.Button(description=\"Clear Widget State\")\n",
    "clear_button.on_click(clear_widget_state)\n",
    "\n",
    "# Display the widgets and clear button\n",
    "display(folder_select, confirm_button, clear_button, folder_name_label)\n"
   ]
  },
  {
   "attachments": {},
   "cell_type": "markdown",
   "id": "324a25d8",
   "metadata": {},
   "source": [
    "## Results Section"
   ]
  },
  {
   "cell_type": "code",
   "execution_count": null,
   "id": "9bc34370",
   "metadata": {},
   "outputs": [],
   "source": []
  }
 ],
 "metadata": {
  "kernelspec": {
   "display_name": "Python 3 (ipykernel)",
   "language": "python",
   "name": "python3"
  },
  "language_info": {
   "codemirror_mode": {
    "name": "ipython",
    "version": 3
   },
   "file_extension": ".py",
   "mimetype": "text/x-python",
   "name": "python",
   "nbconvert_exporter": "python",
   "pygments_lexer": "ipython3",
   "version": "3.10.0"
  }
 },
 "nbformat": 4,
 "nbformat_minor": 5
}
